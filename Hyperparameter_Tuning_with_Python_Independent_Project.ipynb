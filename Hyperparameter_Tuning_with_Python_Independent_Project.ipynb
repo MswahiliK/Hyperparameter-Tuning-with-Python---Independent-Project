{
  "nbformat": 4,
  "nbformat_minor": 0,
  "metadata": {
    "kernelspec": {
      "display_name": "Python 3",
      "language": "python",
      "name": "python3"
    },
    "language_info": {
      "codemirror_mode": {
        "name": "ipython",
        "version": 3
      },
      "file_extension": ".py",
      "mimetype": "text/x-python",
      "name": "python",
      "nbconvert_exporter": "python",
      "pygments_lexer": "ipython3",
      "version": "3.7.4"
    },
    "colab": {
      "name": "Hyperparameter Tuning with Python - Independent Project",
      "provenance": [],
      "collapsed_sections": []
    }
  },
  "cells": [
    {
      "cell_type": "markdown",
      "metadata": {
        "id": "IcGUDoSkBiT4"
      },
      "source": [
        "# <font color='#2F4F4F'>1. Defining the Question</font>"
      ]
    },
    {
      "cell_type": "markdown",
      "metadata": {
        "id": "6sg3Sq-kBiT5"
      },
      "source": [
        "### a) Specifying the Data Analysis Question\n",
        "\n",
        "As a Data Scientist working for Airbnb, you have been tasked to create a model that\n",
        "predicts Airbnb rental prices for the city of Amsterdam. Popularity for Airbnbs in\n",
        "Amsterdam has grown over the past years and you are required to build a solution the\n",
        "would make optimal predictions."
      ]
    },
    {
      "cell_type": "markdown",
      "metadata": {
        "id": "54AGppS1BiT6"
      },
      "source": [
        "### b) Defining the Metric for Success\n",
        "\n",
        "The metrics we will use to evaluate our model are RMSE and R2 scores."
      ]
    },
    {
      "cell_type": "markdown",
      "metadata": {
        "id": "In67Zlg2BiT7"
      },
      "source": [
        "### c) Understanding the Context \n",
        "\n",
        "Airbnb is an American vacation rental online marketplace company based in San\n",
        "Francisco, California, United States. Airbnb offers arrangement for lodging, primarily\n",
        "homestays, or tourism experiences. The company does not own any of the real estate\n",
        "listings, nor does it host events; it acts as a broker, receiving commissions from each\n",
        "booking."
      ]
    },
    {
      "cell_type": "markdown",
      "metadata": {
        "id": "VME7R5U9BiT8"
      },
      "source": [
        "### d) Recording the Experimental Design\n",
        "\n",
        "* Defining the Research Question\n",
        "* Data Importation\n",
        "* Data Exploration\n",
        "* Data Cleaning\n",
        "* Data Analysis (Univariate and Bivariate)\n",
        "* Data Preparation\n",
        "* Data Modeling\n",
        "* Model Evaluation\n",
        "* Challenging your Solution\n",
        "* Recommendations / Conclusion "
      ]
    },
    {
      "cell_type": "markdown",
      "metadata": {
        "id": "Ox4_7p-dBiT8"
      },
      "source": [
        "### e) Data Relevance\n",
        "\n",
        "The data provided was relevant to answering the research question."
      ]
    },
    {
      "cell_type": "markdown",
      "metadata": {
        "id": "C8P0JbeUBiT9"
      },
      "source": [
        "# <font color='#2F4F4F'>2. Data Cleaning & Preparation</font>"
      ]
    },
    {
      "cell_type": "code",
      "metadata": {
        "id": "7i0Z1TaoBiT-"
      },
      "source": [
        "# loading libraries\n",
        "import pandas as pd\n",
        "import numpy as np\n",
        "import matplotlib.pyplot as plt\n",
        "import seaborn as sns\n",
        "\n",
        "pd.set_option('display.max.columns', None)\n",
        "pd.set_option('display.max_colwidth', None)\n",
        "%matplotlib inline"
      ],
      "execution_count": null,
      "outputs": []
    },
    {
      "cell_type": "code",
      "metadata": {
        "scrolled": true,
        "id": "hrt1AegqBiUD",
        "colab": {
          "base_uri": "https://localhost:8080/",
          "height": 364
        },
        "outputId": "6d2a4615-8fa6-46f5-f1b7-a6fc35446452"
      },
      "source": [
        "# loading and previewing dataset\n",
        "df = pd.read_csv('https://bit.ly/31fkomB')\n",
        "df.sample(3)"
      ],
      "execution_count": null,
      "outputs": [
        {
          "output_type": "execute_result",
          "data": {
            "text/html": [
              "\n",
              "  <div id=\"df-702c31eb-687c-4b19-8143-a0ae039b4233\">\n",
              "    <div class=\"colab-df-container\">\n",
              "      <div>\n",
              "<style scoped>\n",
              "    .dataframe tbody tr th:only-of-type {\n",
              "        vertical-align: middle;\n",
              "    }\n",
              "\n",
              "    .dataframe tbody tr th {\n",
              "        vertical-align: top;\n",
              "    }\n",
              "\n",
              "    .dataframe thead th {\n",
              "        text-align: right;\n",
              "    }\n",
              "</style>\n",
              "<table border=\"1\" class=\"dataframe\">\n",
              "  <thead>\n",
              "    <tr style=\"text-align: right;\">\n",
              "      <th></th>\n",
              "      <th>id</th>\n",
              "      <th>name</th>\n",
              "      <th>host_id</th>\n",
              "      <th>host_name</th>\n",
              "      <th>neighbourhood_group</th>\n",
              "      <th>neighbourhood</th>\n",
              "      <th>latitude</th>\n",
              "      <th>longitude</th>\n",
              "      <th>room_type</th>\n",
              "      <th>price</th>\n",
              "      <th>minimum_nights</th>\n",
              "      <th>number_of_reviews</th>\n",
              "      <th>last_review</th>\n",
              "      <th>reviews_per_month</th>\n",
              "      <th>calculated_host_listings_count</th>\n",
              "      <th>availability_365</th>\n",
              "    </tr>\n",
              "  </thead>\n",
              "  <tbody>\n",
              "    <tr>\n",
              "      <th>14856</th>\n",
              "      <td>30055216</td>\n",
              "      <td>LOVELY BRIGHT APARTMENT IN THE PIPE (CENTRE)</td>\n",
              "      <td>225854778</td>\n",
              "      <td>Gregor</td>\n",
              "      <td>NaN</td>\n",
              "      <td>De Pijp - Rivierenbuurt</td>\n",
              "      <td>52.35728</td>\n",
              "      <td>4.88933</td>\n",
              "      <td>Entire home/apt</td>\n",
              "      <td>450</td>\n",
              "      <td>2</td>\n",
              "      <td>0</td>\n",
              "      <td>NaN</td>\n",
              "      <td>NaN</td>\n",
              "      <td>1</td>\n",
              "      <td>0</td>\n",
              "    </tr>\n",
              "    <tr>\n",
              "      <th>6082</th>\n",
              "      <td>12761226</td>\n",
              "      <td>Nice Room in a spacious appartment</td>\n",
              "      <td>67844968</td>\n",
              "      <td>Tim</td>\n",
              "      <td>NaN</td>\n",
              "      <td>Noord-Oost</td>\n",
              "      <td>52.39615</td>\n",
              "      <td>4.93215</td>\n",
              "      <td>Private room</td>\n",
              "      <td>59</td>\n",
              "      <td>3</td>\n",
              "      <td>93</td>\n",
              "      <td>2020-03-17</td>\n",
              "      <td>1.93</td>\n",
              "      <td>1</td>\n",
              "      <td>12</td>\n",
              "    </tr>\n",
              "    <tr>\n",
              "      <th>19222</th>\n",
              "      <td>42900190</td>\n",
              "      <td>Newly renovated apartment of 60m2!</td>\n",
              "      <td>341606001</td>\n",
              "      <td>Jan</td>\n",
              "      <td>NaN</td>\n",
              "      <td>Bos en Lommer</td>\n",
              "      <td>52.37293</td>\n",
              "      <td>4.84802</td>\n",
              "      <td>Entire home/apt</td>\n",
              "      <td>99</td>\n",
              "      <td>1</td>\n",
              "      <td>0</td>\n",
              "      <td>NaN</td>\n",
              "      <td>NaN</td>\n",
              "      <td>1</td>\n",
              "      <td>56</td>\n",
              "    </tr>\n",
              "  </tbody>\n",
              "</table>\n",
              "</div>\n",
              "      <button class=\"colab-df-convert\" onclick=\"convertToInteractive('df-702c31eb-687c-4b19-8143-a0ae039b4233')\"\n",
              "              title=\"Convert this dataframe to an interactive table.\"\n",
              "              style=\"display:none;\">\n",
              "        \n",
              "  <svg xmlns=\"http://www.w3.org/2000/svg\" height=\"24px\"viewBox=\"0 0 24 24\"\n",
              "       width=\"24px\">\n",
              "    <path d=\"M0 0h24v24H0V0z\" fill=\"none\"/>\n",
              "    <path d=\"M18.56 5.44l.94 2.06.94-2.06 2.06-.94-2.06-.94-.94-2.06-.94 2.06-2.06.94zm-11 1L8.5 8.5l.94-2.06 2.06-.94-2.06-.94L8.5 2.5l-.94 2.06-2.06.94zm10 10l.94 2.06.94-2.06 2.06-.94-2.06-.94-.94-2.06-.94 2.06-2.06.94z\"/><path d=\"M17.41 7.96l-1.37-1.37c-.4-.4-.92-.59-1.43-.59-.52 0-1.04.2-1.43.59L10.3 9.45l-7.72 7.72c-.78.78-.78 2.05 0 2.83L4 21.41c.39.39.9.59 1.41.59.51 0 1.02-.2 1.41-.59l7.78-7.78 2.81-2.81c.8-.78.8-2.07 0-2.86zM5.41 20L4 18.59l7.72-7.72 1.47 1.35L5.41 20z\"/>\n",
              "  </svg>\n",
              "      </button>\n",
              "      \n",
              "  <style>\n",
              "    .colab-df-container {\n",
              "      display:flex;\n",
              "      flex-wrap:wrap;\n",
              "      gap: 12px;\n",
              "    }\n",
              "\n",
              "    .colab-df-convert {\n",
              "      background-color: #E8F0FE;\n",
              "      border: none;\n",
              "      border-radius: 50%;\n",
              "      cursor: pointer;\n",
              "      display: none;\n",
              "      fill: #1967D2;\n",
              "      height: 32px;\n",
              "      padding: 0 0 0 0;\n",
              "      width: 32px;\n",
              "    }\n",
              "\n",
              "    .colab-df-convert:hover {\n",
              "      background-color: #E2EBFA;\n",
              "      box-shadow: 0px 1px 2px rgba(60, 64, 67, 0.3), 0px 1px 3px 1px rgba(60, 64, 67, 0.15);\n",
              "      fill: #174EA6;\n",
              "    }\n",
              "\n",
              "    [theme=dark] .colab-df-convert {\n",
              "      background-color: #3B4455;\n",
              "      fill: #D2E3FC;\n",
              "    }\n",
              "\n",
              "    [theme=dark] .colab-df-convert:hover {\n",
              "      background-color: #434B5C;\n",
              "      box-shadow: 0px 1px 3px 1px rgba(0, 0, 0, 0.15);\n",
              "      filter: drop-shadow(0px 1px 2px rgba(0, 0, 0, 0.3));\n",
              "      fill: #FFFFFF;\n",
              "    }\n",
              "  </style>\n",
              "\n",
              "      <script>\n",
              "        const buttonEl =\n",
              "          document.querySelector('#df-702c31eb-687c-4b19-8143-a0ae039b4233 button.colab-df-convert');\n",
              "        buttonEl.style.display =\n",
              "          google.colab.kernel.accessAllowed ? 'block' : 'none';\n",
              "\n",
              "        async function convertToInteractive(key) {\n",
              "          const element = document.querySelector('#df-702c31eb-687c-4b19-8143-a0ae039b4233');\n",
              "          const dataTable =\n",
              "            await google.colab.kernel.invokeFunction('convertToInteractive',\n",
              "                                                     [key], {});\n",
              "          if (!dataTable) return;\n",
              "\n",
              "          const docLinkHtml = 'Like what you see? Visit the ' +\n",
              "            '<a target=\"_blank\" href=https://colab.research.google.com/notebooks/data_table.ipynb>data table notebook</a>'\n",
              "            + ' to learn more about interactive tables.';\n",
              "          element.innerHTML = '';\n",
              "          dataTable['output_type'] = 'display_data';\n",
              "          await google.colab.output.renderOutput(dataTable, element);\n",
              "          const docLink = document.createElement('div');\n",
              "          docLink.innerHTML = docLinkHtml;\n",
              "          element.appendChild(docLink);\n",
              "        }\n",
              "      </script>\n",
              "    </div>\n",
              "  </div>\n",
              "  "
            ],
            "text/plain": [
              "             id                                          name    host_id  \\\n",
              "14856  30055216  LOVELY BRIGHT APARTMENT IN THE PIPE (CENTRE)  225854778   \n",
              "6082   12761226            Nice Room in a spacious appartment   67844968   \n",
              "19222  42900190            Newly renovated apartment of 60m2!  341606001   \n",
              "\n",
              "      host_name  neighbourhood_group            neighbourhood  latitude  \\\n",
              "14856    Gregor                  NaN  De Pijp - Rivierenbuurt  52.35728   \n",
              "6082        Tim                  NaN               Noord-Oost  52.39615   \n",
              "19222       Jan                  NaN            Bos en Lommer  52.37293   \n",
              "\n",
              "       longitude        room_type  price  minimum_nights  number_of_reviews  \\\n",
              "14856    4.88933  Entire home/apt    450               2                  0   \n",
              "6082     4.93215     Private room     59               3                 93   \n",
              "19222    4.84802  Entire home/apt     99               1                  0   \n",
              "\n",
              "      last_review  reviews_per_month  calculated_host_listings_count  \\\n",
              "14856         NaN                NaN                               1   \n",
              "6082   2020-03-17               1.93                               1   \n",
              "19222         NaN                NaN                               1   \n",
              "\n",
              "       availability_365  \n",
              "14856                 0  \n",
              "6082                 12  \n",
              "19222                56  "
            ]
          },
          "metadata": {},
          "execution_count": 3
        }
      ]
    },
    {
      "cell_type": "code",
      "metadata": {
        "id": "8nHmaa4tBiUL",
        "colab": {
          "base_uri": "https://localhost:8080/",
          "height": 661
        },
        "outputId": "1d297d10-eed3-4194-960c-df2f78c7466d"
      },
      "source": [
        "# loading glossary\n",
        "glossary = pd.read_csv('https://bit.ly/3klxdEn', header = None)\n",
        "glossary"
      ],
      "execution_count": null,
      "outputs": [
        {
          "output_type": "execute_result",
          "data": {
            "text/html": [
              "\n",
              "  <div id=\"df-6ce48a1d-916b-474a-805c-32ccc3fdc1a8\">\n",
              "    <div class=\"colab-df-container\">\n",
              "      <div>\n",
              "<style scoped>\n",
              "    .dataframe tbody tr th:only-of-type {\n",
              "        vertical-align: middle;\n",
              "    }\n",
              "\n",
              "    .dataframe tbody tr th {\n",
              "        vertical-align: top;\n",
              "    }\n",
              "\n",
              "    .dataframe thead th {\n",
              "        text-align: right;\n",
              "    }\n",
              "</style>\n",
              "<table border=\"1\" class=\"dataframe\">\n",
              "  <thead>\n",
              "    <tr style=\"text-align: right;\">\n",
              "      <th></th>\n",
              "      <th>0</th>\n",
              "    </tr>\n",
              "  </thead>\n",
              "  <tbody>\n",
              "    <tr>\n",
              "      <th>0</th>\n",
              "      <td>room_id: A unique number identifying an Airbnb listing.</td>\n",
              "    </tr>\n",
              "    <tr>\n",
              "      <th>1</th>\n",
              "      <td>host_id: A unique number identifying an Airbnb host.</td>\n",
              "    </tr>\n",
              "    <tr>\n",
              "      <th>2</th>\n",
              "      <td>neighborhood: A subregion of the city or search area for which the survey is carried out. For some cities there is no neighbourhood information.</td>\n",
              "    </tr>\n",
              "    <tr>\n",
              "      <th>3</th>\n",
              "      <td>room_type: One of “Entire home/apt”, “Private room”, or “Shared room”.</td>\n",
              "    </tr>\n",
              "    <tr>\n",
              "      <th>4</th>\n",
              "      <td>host_response_rate: The rate at which the particular host responds to the customers.</td>\n",
              "    </tr>\n",
              "    <tr>\n",
              "      <th>5</th>\n",
              "      <td>price: The price (in $US) for a night stay. In early surveys, there may be some values that were recorded by month.</td>\n",
              "    </tr>\n",
              "    <tr>\n",
              "      <th>6</th>\n",
              "      <td>accomodates: The number of guests a listing can accommodate.</td>\n",
              "    </tr>\n",
              "    <tr>\n",
              "      <th>7</th>\n",
              "      <td>bathrooms: The number of bathrooms a listing offers.</td>\n",
              "    </tr>\n",
              "    <tr>\n",
              "      <th>8</th>\n",
              "      <td>bedrooms: The number of bedrooms a listing offers.</td>\n",
              "    </tr>\n",
              "    <tr>\n",
              "      <th>9</th>\n",
              "      <td>beds: The number of beds a listing offers.</td>\n",
              "    </tr>\n",
              "    <tr>\n",
              "      <th>10</th>\n",
              "      <td>minimum_nights: The minimum stay for a visit, as posted by the host.</td>\n",
              "    </tr>\n",
              "    <tr>\n",
              "      <th>11</th>\n",
              "      <td>maximum nights: The maximum stay for a visit, as posted by the host.</td>\n",
              "    </tr>\n",
              "    <tr>\n",
              "      <th>12</th>\n",
              "      <td>overall_satisfaction: The average rating (out of five) that the listing has received from those visitors who left a review.</td>\n",
              "    </tr>\n",
              "    <tr>\n",
              "      <th>13</th>\n",
              "      <td>number_of_reviews: The number of reviews that a listing has received. Airbnb has said that 70% of visits end up with a review, so the number of reviews can be used to estimate the number of visits. Note that such an estimate will not be reliable for an individual listing (especially as reviews occasionally vanish from the site), but over a city as a whole it should be a useful metric of traffic.</td>\n",
              "    </tr>\n",
              "    <tr>\n",
              "      <th>14</th>\n",
              "      <td>reviews_per_month: The number of reviews that a listing has received per month.</td>\n",
              "    </tr>\n",
              "    <tr>\n",
              "      <th>15</th>\n",
              "      <td>host_listings_count: The number of listings for a particular host.</td>\n",
              "    </tr>\n",
              "    <tr>\n",
              "      <th>16</th>\n",
              "      <td>availability_365: The number of days for which a particular host is available in a year.</td>\n",
              "    </tr>\n",
              "  </tbody>\n",
              "</table>\n",
              "</div>\n",
              "      <button class=\"colab-df-convert\" onclick=\"convertToInteractive('df-6ce48a1d-916b-474a-805c-32ccc3fdc1a8')\"\n",
              "              title=\"Convert this dataframe to an interactive table.\"\n",
              "              style=\"display:none;\">\n",
              "        \n",
              "  <svg xmlns=\"http://www.w3.org/2000/svg\" height=\"24px\"viewBox=\"0 0 24 24\"\n",
              "       width=\"24px\">\n",
              "    <path d=\"M0 0h24v24H0V0z\" fill=\"none\"/>\n",
              "    <path d=\"M18.56 5.44l.94 2.06.94-2.06 2.06-.94-2.06-.94-.94-2.06-.94 2.06-2.06.94zm-11 1L8.5 8.5l.94-2.06 2.06-.94-2.06-.94L8.5 2.5l-.94 2.06-2.06.94zm10 10l.94 2.06.94-2.06 2.06-.94-2.06-.94-.94-2.06-.94 2.06-2.06.94z\"/><path d=\"M17.41 7.96l-1.37-1.37c-.4-.4-.92-.59-1.43-.59-.52 0-1.04.2-1.43.59L10.3 9.45l-7.72 7.72c-.78.78-.78 2.05 0 2.83L4 21.41c.39.39.9.59 1.41.59.51 0 1.02-.2 1.41-.59l7.78-7.78 2.81-2.81c.8-.78.8-2.07 0-2.86zM5.41 20L4 18.59l7.72-7.72 1.47 1.35L5.41 20z\"/>\n",
              "  </svg>\n",
              "      </button>\n",
              "      \n",
              "  <style>\n",
              "    .colab-df-container {\n",
              "      display:flex;\n",
              "      flex-wrap:wrap;\n",
              "      gap: 12px;\n",
              "    }\n",
              "\n",
              "    .colab-df-convert {\n",
              "      background-color: #E8F0FE;\n",
              "      border: none;\n",
              "      border-radius: 50%;\n",
              "      cursor: pointer;\n",
              "      display: none;\n",
              "      fill: #1967D2;\n",
              "      height: 32px;\n",
              "      padding: 0 0 0 0;\n",
              "      width: 32px;\n",
              "    }\n",
              "\n",
              "    .colab-df-convert:hover {\n",
              "      background-color: #E2EBFA;\n",
              "      box-shadow: 0px 1px 2px rgba(60, 64, 67, 0.3), 0px 1px 3px 1px rgba(60, 64, 67, 0.15);\n",
              "      fill: #174EA6;\n",
              "    }\n",
              "\n",
              "    [theme=dark] .colab-df-convert {\n",
              "      background-color: #3B4455;\n",
              "      fill: #D2E3FC;\n",
              "    }\n",
              "\n",
              "    [theme=dark] .colab-df-convert:hover {\n",
              "      background-color: #434B5C;\n",
              "      box-shadow: 0px 1px 3px 1px rgba(0, 0, 0, 0.15);\n",
              "      filter: drop-shadow(0px 1px 2px rgba(0, 0, 0, 0.3));\n",
              "      fill: #FFFFFF;\n",
              "    }\n",
              "  </style>\n",
              "\n",
              "      <script>\n",
              "        const buttonEl =\n",
              "          document.querySelector('#df-6ce48a1d-916b-474a-805c-32ccc3fdc1a8 button.colab-df-convert');\n",
              "        buttonEl.style.display =\n",
              "          google.colab.kernel.accessAllowed ? 'block' : 'none';\n",
              "\n",
              "        async function convertToInteractive(key) {\n",
              "          const element = document.querySelector('#df-6ce48a1d-916b-474a-805c-32ccc3fdc1a8');\n",
              "          const dataTable =\n",
              "            await google.colab.kernel.invokeFunction('convertToInteractive',\n",
              "                                                     [key], {});\n",
              "          if (!dataTable) return;\n",
              "\n",
              "          const docLinkHtml = 'Like what you see? Visit the ' +\n",
              "            '<a target=\"_blank\" href=https://colab.research.google.com/notebooks/data_table.ipynb>data table notebook</a>'\n",
              "            + ' to learn more about interactive tables.';\n",
              "          element.innerHTML = '';\n",
              "          dataTable['output_type'] = 'display_data';\n",
              "          await google.colab.output.renderOutput(dataTable, element);\n",
              "          const docLink = document.createElement('div');\n",
              "          docLink.innerHTML = docLinkHtml;\n",
              "          element.appendChild(docLink);\n",
              "        }\n",
              "      </script>\n",
              "    </div>\n",
              "  </div>\n",
              "  "
            ],
            "text/plain": [
              "                                                                                                                                                                                                                                                                                                                                                                                                                 0\n",
              "0                                                                                                                                                                                                                                                                                                                                                          room_id: A unique number identifying an Airbnb listing.\n",
              "1                                                                                                                                                                                                                                                                                                                                                             host_id: A unique number identifying an Airbnb host.\n",
              "2                                                                                                                                                                                                                                                                 neighborhood: A subregion of the city or search area for which the survey is carried out. For some cities there is no neighbourhood information.\n",
              "3                                                                                                                                                                                                                                                                                                                                           room_type: One of “Entire home/apt”, “Private room”, or “Shared room”.\n",
              "4                                                                                                                                                                                                                                                                                                                             host_response_rate: The rate at which the particular host responds to the customers.\n",
              "5                                                                                                                                                                                                                                                                                              price: The price (in $US) for a night stay. In early surveys, there may be some values that were recorded by month.\n",
              "6                                                                                                                                                                                                                                                                                                                                                     accomodates: The number of guests a listing can accommodate.\n",
              "7                                                                                                                                                                                                                                                                                                                                                             bathrooms: The number of bathrooms a listing offers.\n",
              "8                                                                                                                                                                                                                                                                                                                                                               bedrooms: The number of bedrooms a listing offers.\n",
              "9                                                                                                                                                                                                                                                                                                                                                                       beds: The number of beds a listing offers.\n",
              "10                                                                                                                                                                                                                                                                                                                                            minimum_nights: The minimum stay for a visit, as posted by the host.\n",
              "11                                                                                                                                                                                                                                                                                                                                            maximum nights: The maximum stay for a visit, as posted by the host.\n",
              "12                                                                                                                                                                                                                                                                                     overall_satisfaction: The average rating (out of five) that the listing has received from those visitors who left a review.\n",
              "13  number_of_reviews: The number of reviews that a listing has received. Airbnb has said that 70% of visits end up with a review, so the number of reviews can be used to estimate the number of visits. Note that such an estimate will not be reliable for an individual listing (especially as reviews occasionally vanish from the site), but over a city as a whole it should be a useful metric of traffic.\n",
              "14                                                                                                                                                                                                                                                                                                                                 reviews_per_month: The number of reviews that a listing has received per month.\n",
              "15                                                                                                                                                                                                                                                                                                                                              host_listings_count: The number of listings for a particular host.\n",
              "16                                                                                                                                                                                                                                                                                                                        availability_365: The number of days for which a particular host is available in a year."
            ]
          },
          "metadata": {},
          "execution_count": 4
        }
      ]
    },
    {
      "cell_type": "code",
      "metadata": {
        "id": "xwI6XbOtBiUO"
      },
      "source": [
        "# dropping the 'name' variable\n",
        "df.drop(columns = ['name'], inplace = True)"
      ],
      "execution_count": null,
      "outputs": []
    },
    {
      "cell_type": "code",
      "metadata": {
        "id": "6YLlPK34BiUS",
        "colab": {
          "base_uri": "https://localhost:8080/"
        },
        "outputId": "c0f09f96-d404-48c7-e933-45675f7806cc"
      },
      "source": [
        "# checking dataset shape\n",
        "df.shape"
      ],
      "execution_count": null,
      "outputs": [
        {
          "output_type": "execute_result",
          "data": {
            "text/plain": [
              "(19362, 15)"
            ]
          },
          "metadata": {},
          "execution_count": 6
        }
      ]
    },
    {
      "cell_type": "code",
      "metadata": {
        "id": "wSszt42KBiUX",
        "colab": {
          "base_uri": "https://localhost:8080/"
        },
        "outputId": "19b90dce-fd33-454b-e0ca-1c8d0f777cbd"
      },
      "source": [
        "# checking data types\n",
        "df.dtypes"
      ],
      "execution_count": null,
      "outputs": [
        {
          "output_type": "execute_result",
          "data": {
            "text/plain": [
              "id                                  int64\n",
              "host_id                             int64\n",
              "host_name                          object\n",
              "neighbourhood_group               float64\n",
              "neighbourhood                      object\n",
              "latitude                          float64\n",
              "longitude                         float64\n",
              "room_type                          object\n",
              "price                               int64\n",
              "minimum_nights                      int64\n",
              "number_of_reviews                   int64\n",
              "last_review                        object\n",
              "reviews_per_month                 float64\n",
              "calculated_host_listings_count      int64\n",
              "availability_365                    int64\n",
              "dtype: object"
            ]
          },
          "metadata": {},
          "execution_count": 7
        }
      ]
    },
    {
      "cell_type": "code",
      "metadata": {
        "id": "zmH7F51yBiUa"
      },
      "source": [
        ""
      ],
      "execution_count": null,
      "outputs": []
    },
    {
      "cell_type": "code",
      "metadata": {
        "id": "sE9Pjh1gBiUd",
        "colab": {
          "base_uri": "https://localhost:8080/"
        },
        "outputId": "358b07d4-f8c6-4821-fda8-a38925d62a89"
      },
      "source": [
        "# dropping duplicates, if any\n",
        "df.drop_duplicates(inplace = True)\n",
        "df.shape"
      ],
      "execution_count": null,
      "outputs": [
        {
          "output_type": "execute_result",
          "data": {
            "text/plain": [
              "(19362, 15)"
            ]
          },
          "metadata": {},
          "execution_count": 8
        }
      ]
    },
    {
      "cell_type": "code",
      "metadata": {
        "id": "TSntRcwDBiUg",
        "colab": {
          "base_uri": "https://localhost:8080/"
        },
        "outputId": "e65ba4f4-ad7f-4d2b-c32e-f57619c45022"
      },
      "source": [
        "# checking for missing data\n",
        "df.isna().sum()"
      ],
      "execution_count": null,
      "outputs": [
        {
          "output_type": "execute_result",
          "data": {
            "text/plain": [
              "id                                    0\n",
              "host_id                               0\n",
              "host_name                             4\n",
              "neighbourhood_group               19362\n",
              "neighbourhood                         0\n",
              "latitude                              0\n",
              "longitude                             0\n",
              "room_type                             0\n",
              "price                                 0\n",
              "minimum_nights                        0\n",
              "number_of_reviews                     0\n",
              "last_review                        2284\n",
              "reviews_per_month                  2284\n",
              "calculated_host_listings_count        0\n",
              "availability_365                      0\n",
              "dtype: int64"
            ]
          },
          "metadata": {},
          "execution_count": 9
        }
      ]
    },
    {
      "cell_type": "code",
      "metadata": {
        "id": "7-sCZwtIBiUj",
        "colab": {
          "base_uri": "https://localhost:8080/"
        },
        "outputId": "b17803fd-031a-422c-a2de-08b1f5139820"
      },
      "source": [
        "# dropping the 'neighbourhood_group' variable, and the records with missing values for 'last_review'\n",
        "# and 'reviews_per_month'\n",
        "df.drop(columns = ['neighbourhood_group'], inplace = True)\n",
        "df.dropna(inplace = True)\n",
        "\n",
        "# confirming we have no null values\n",
        "df.isnull().sum()"
      ],
      "execution_count": null,
      "outputs": [
        {
          "output_type": "execute_result",
          "data": {
            "text/plain": [
              "id                                0\n",
              "host_id                           0\n",
              "host_name                         0\n",
              "neighbourhood                     0\n",
              "latitude                          0\n",
              "longitude                         0\n",
              "room_type                         0\n",
              "price                             0\n",
              "minimum_nights                    0\n",
              "number_of_reviews                 0\n",
              "last_review                       0\n",
              "reviews_per_month                 0\n",
              "calculated_host_listings_count    0\n",
              "availability_365                  0\n",
              "dtype: int64"
            ]
          },
          "metadata": {},
          "execution_count": 10
        }
      ]
    },
    {
      "cell_type": "code",
      "metadata": {
        "id": "w0ZinlPpBiUo",
        "colab": {
          "base_uri": "https://localhost:8080/"
        },
        "outputId": "c5a3c862-25c9-4608-bffc-587f6cdf19b3"
      },
      "source": [
        "df.shape"
      ],
      "execution_count": null,
      "outputs": [
        {
          "output_type": "execute_result",
          "data": {
            "text/plain": [
              "(17075, 14)"
            ]
          },
          "metadata": {},
          "execution_count": 11
        }
      ]
    },
    {
      "cell_type": "code",
      "metadata": {
        "id": "Biqt5CGbBiUs",
        "colab": {
          "base_uri": "https://localhost:8080/"
        },
        "outputId": "5bb61d22-ee94-4dc5-b6a3-34d6aff135a3"
      },
      "source": [
        "# get the unique value of each variable to ensure there are no anomalies\n",
        "cols = df.columns.to_list()\n",
        "\n",
        "for col in cols:\n",
        "    print(\"Variable:\", col)\n",
        "    print(\"Number of unique variables:\", df[col].nunique())\n",
        "    print(df[col].unique())\n",
        "    print()"
      ],
      "execution_count": null,
      "outputs": [
        {
          "output_type": "stream",
          "name": "stdout",
          "text": [
            "Variable: id\n",
            "Number of unique variables: 17075\n",
            "[    2818    20168    25428 ... 42947577 43031829 43076538]\n",
            "\n",
            "Variable: host_id\n",
            "Number of unique variables: 15182\n",
            "[     3159     59484     56142 ... 341432744 148433830 342882021]\n",
            "\n",
            "Variable: host_name\n",
            "Number of unique variables: 5382\n",
            "['Daniel' 'Alexander' 'Joan' ... 'The Niu Fender' 'Marcela' 'Addie']\n",
            "\n",
            "Variable: neighbourhood\n",
            "Number of unique variables: 22\n",
            "['Oostelijk Havengebied - Indische Buurt' 'Centrum-Oost' 'Centrum-West'\n",
            " 'Zuid' 'De Pijp - Rivierenbuurt' 'De Baarsjes - Oud-West' 'Bos en Lommer'\n",
            " 'Westerpark' 'Oud-Oost' 'Noord-West' 'Slotervaart' 'Oud-Noord'\n",
            " 'Geuzenveld - Slotermeer' 'Watergraafsmeer' 'IJburg - Zeeburgereiland'\n",
            " 'Noord-Oost' 'Gaasperdam - Driemond' 'Buitenveldert - Zuidas'\n",
            " 'Bijlmer-Oost' 'De Aker - Nieuw Sloten' 'Osdorp' 'Bijlmer-Centrum']\n",
            "\n",
            "Variable: latitude\n",
            "Number of unique variables: 5720\n",
            "[52.36575 52.36509 52.37297 ... 52.40828 52.40598 52.38885]\n",
            "\n",
            "Variable: longitude\n",
            "Number of unique variables: 9193\n",
            "[4.94142 4.89354 4.88339 ... 4.88152 4.88034 4.81311]\n",
            "\n",
            "Variable: room_type\n",
            "Number of unique variables: 4\n",
            "['Private room' 'Entire home/apt' 'Hotel room' 'Shared room']\n",
            "\n",
            "Variable: price\n",
            "Number of unique variables: 422\n",
            "[  59  100  125  155   75   55  219  180  159  210  150  270  220  250\n",
            "  120  135  115   80   87   86  222   60  149  109  189  450  108   53\n",
            "  175  105   70  145   95  249   45   98   40   89   99  259  193   52\n",
            "   90   74  165  140   79  230   50  160  129  284  114  265  130  119\n",
            "  385  168 8000   88   85  200  169  650 9000   30  126  550  275  464\n",
            "  111  199  107  226  295   72   96  395  245  299  300  188  280  440\n",
            "  185   65  110  350  400  117   78  700  290  139  415 1750  179  525\n",
            "  195  206   97  144  170  360  118  225   83  232   69  235  213  325\n",
            "  147  190  214  240  121  156  260  319  228  425  399  124  349  239\n",
            "  800  133   47   77  345  229  255   76   66   94  172  376  495  500\n",
            "  439  850  320   93   92  183   58  122  263  154  297  153   71  600\n",
            "   64  123   73  142  138   91   51  317  128  335  248  101  279  103\n",
            "  158  330   84   82  285  291  215  132  176  289   62  131  112  246\n",
            "  127  274  148  498  177  204  466   43   48   57  695  386  266  375\n",
            "   56   68  136  227  405  321  187   49  104  209  146  224  102  344\n",
            "   46  559   63  595  164  795  323  251  218  288   81  197   42  333\n",
            "  174  137  379 1000   35  254  427  383  196   12  329  865  141  389\n",
            "   67  925  725  273  178  198   61   39  167  143 4500  182  475  310\n",
            "  420  151  499  184 1119  186   37   20  233  208  106   41  152  370\n",
            "  116  157  113  134  256  581  173 1150  340  269  445  236    6  211\n",
            "  161   54  231  162   27   28  449  470  898  238  307  460  380  221\n",
            "  205  171  555   38  203   33  480  268  247  201  328  332  410  433\n",
            "  252   32   19  580  298  490  999  217  315   44  575  281  166  234\n",
            "  396  390  163  377  599  308  935   26  277   36  244 1200 1390  604\n",
            "  690  305  194  276  545  359  900  446  207  243   23  615  314   24\n",
            "  267  181  896   29  457  258  680  485    0  447  434   34  429  699\n",
            "  540  223  306  352  590   25   31  424  262  542  403  338  216  750\n",
            "  212  459  520  282 1025  397  237  810  353 1230 3000 2000  242  313\n",
            " 5040  264  339  618  585  438 1285  312  579  401  341  348  799  337\n",
            "  202  840  303  494   17  448  560  563  324  570    5  818  745  368\n",
            "   10  620]\n",
            "\n",
            "Variable: minimum_nights\n",
            "Number of unique variables: 60\n",
            "[   3    1   14    2    4    5    7   21   30   10    6   20  180    8\n",
            "   60   28   13  500   16   15    9  150   31   89   18   59   25   12\n",
            "  999   24   38  186  120   23   40   11   41  222  100   50  240   95\n",
            "   19   90  200   37   17   70   22   99   29   27   45  300 1001   52\n",
            "   48  365 1000   35]\n",
            "\n",
            "Variable: number_of_reviews\n",
            "Number of unique variables: 422\n",
            "[278 340   5 217 332 479  32  89 471 850   3 208 367 103  17 108 298 102\n",
            " 355 309 323 179  31  58 158  95  30  27  16 659 579 154 106  62  97 252\n",
            " 324  64 218 843 131 510 157  94  44 178 196   2  37 386 545 151  29  28\n",
            "  86   4  21  55  41 256  22  48 139 101  15 362 185  10 586  42  40  24\n",
            "  19 166 128 343 160  11 410  81  49  83   7   8 119 216   6  43  35  20\n",
            " 109  50   1 275 465 234 317 209  25  14  87 162  34  75  80 100  12  38\n",
            " 514 288 384  79  99  52 198  67 118 130 111 574  53 186  23  78  65 123\n",
            "  33  91   9 397 237  77  76  60  46 193 150 432  54  45  96  39 127  93\n",
            "  59  13 202  72  57 112  18 369  26 439 170  66 337 210 259 284 606 363\n",
            " 195  71 372  36  47 141 107 645 551 411 299 418 120 699  85 147 183 221\n",
            " 351  69 149  68 238 114 161 104  63 246 391 188 409  73 756 121 174 311\n",
            "  82 668 230 300  74 661  70 326 134 233  92  51 459 327 501 412  56 279\n",
            " 129 408 349 165 254 468 137 226 553  98 285 192 455 325 373 105 289 173\n",
            " 263 390 485 235 148 307 624 315  61 171 124 219 122 175  88 508 314 268\n",
            " 243  90 212 404 156 273 375 133 377 182 283 413 125 265 304 191 760 354\n",
            " 229 257 401 331 306 427 334 431 502 492 143 458 236 126 258 142 282 435\n",
            " 496 153 558 190 261 159 253 447 280 291 274 267 215 255 444 242  84 152\n",
            " 199 145 303 388 286 266 379 110 321 135 197 371 463 434 344 187 271 264\n",
            " 430 596 155 450 169 251 213 617 222 475 172 387 207 296 356 297 457 313\n",
            " 117 115 357 320 168 338 184 358 249 262 272 206 214 163 113 302 225 138\n",
            " 247 422 488 244 568 417 312 381 310 241 224 223 336 290 116 329 164 322\n",
            " 406 269 277 180 522 292 204 348 146 245 250 534 211 276 437 328 382 176\n",
            " 248 177 424 359 232 347 144 231 194 200 181 295 201 239 346 140 330 167\n",
            " 136 240 319 227 132 189 203 589]\n",
            "\n",
            "Variable: last_review\n",
            "Number of unique variables: 1590\n",
            "['2020-02-14' '2020-04-09' '2020-02-09' ... '2020-04-03' '2020-04-18'\n",
            " '2020-04-17']\n",
            "\n",
            "Variable: reviews_per_month\n",
            "Number of unique variables: 703\n",
            "[2.060e+00 2.760e+00 1.800e-01 2.150e+00 2.820e+00 4.330e+00 3.000e-01\n",
            " 7.800e-01 4.020e+00 1.004e+01 3.000e-02 2.000e+00 3.180e+00 9.500e-01\n",
            " 2.300e-01 1.190e+00 2.630e+00 8.900e-01 3.100e+00 2.810e+00 2.990e+00\n",
            " 1.600e+00 2.700e-01 5.000e-02 5.100e-01 1.380e+00 8.400e-01 1.140e+00\n",
            " 1.270e+00 2.500e-01 2.000e-01 5.950e+00 5.190e+00 1.410e+00 2.130e+00\n",
            " 5.600e-01 1.160e+00 2.320e+00 3.000e+00 1.970e+00 7.830e+00 6.840e+00\n",
            " 1.430e+00 8.800e-01 4.100e-01 1.830e+00 2.000e-02 3.500e-01 8.000e-02\n",
            " 3.940e+00 5.090e+00 2.800e-01 9.600e-01 8.000e-01 2.200e-01 6.200e-01\n",
            " 6.000e-01 2.460e+00 2.100e-01 9.700e-01 1.550e+00 4.500e-01 1.310e+00\n",
            " 2.600e-01 1.500e-01 3.430e+00 1.770e+00 1.100e-01 5.600e+00 3.900e-01\n",
            " 4.000e-01 3.800e-01 2.400e-01 1.610e+00 1.240e+00 9.000e-01 1.600e-01\n",
            " 3.350e+00 3.700e-01 4.070e+00 1.350e+00 5.800e-01 8.500e-01 1.220e+00\n",
            " 2.250e+00 4.300e-01 3.600e-01 1.000e+00 4.000e-02 1.120e+00 5.000e-01\n",
            " 1.000e-01 2.750e+00 4.830e+00 3.190e+00 2.070e+00 8.300e-01 1.400e-01\n",
            " 9.100e-01 8.700e-01 7.000e-02 1.660e+00 1.050e+00 4.600e-01 3.200e-01\n",
            " 8.200e-01 4.900e-01 1.200e-01 3.080e+00 3.300e-01 5.210e+00 3.400e-01\n",
            " 2.940e+00 3.960e+00 4.400e-01 1.100e+00 8.100e-01 1.020e+00 5.900e-01\n",
            " 2.030e+00 1.900e-01 6.800e-01 1.450e+00 5.900e+00 5.400e-01 6.700e-01\n",
            " 1.700e-01 6.100e-01 4.110e+00 7.900e-01 6.300e-01 4.800e-01 2.050e+00\n",
            " 1.650e+00 5.640e+00 5.700e-01 4.700e-01 1.010e+00 1.300e-01 6.600e-01\n",
            " 1.390e+00 9.800e-01 1.260e+00 9.000e-02 4.690e+00 7.700e-01 2.370e+00\n",
            " 1.180e+00 7.400e-01 1.820e+00 3.920e+00 4.790e+00 2.900e-01 2.690e+00\n",
            " 4.200e-01 5.300e-01 7.100e-01 4.640e+00 2.380e+00 2.800e+00 3.100e-01\n",
            " 3.260e+00 6.480e+00 3.900e+00 2.110e+00 7.600e-01 3.970e+00 1.520e+00\n",
            " 1.000e-02 2.400e+00 1.170e+00 6.980e+00 6.000e+00 6.900e-01 6.000e-02\n",
            " 3.240e+00 4.560e+00 1.320e+00 7.600e+00 6.500e-01 1.850e+00 9.300e-01\n",
            " 3.590e+00 5.200e-01 9.400e-01 2.010e+00 1.200e+00 3.550e+00 3.890e+00\n",
            " 2.040e+00 1.130e+00 1.210e+00 2.720e+00 5.500e-01 2.710e+00 6.060e+00\n",
            " 2.210e+00 4.530e+00 1.780e+00 7.000e-01 8.460e+00 1.360e+00 1.940e+00\n",
            " 3.570e+00 7.420e+00 5.240e+00 3.130e+00 3.380e+00 7.440e+00 3.800e+00\n",
            " 1.590e+00 1.980e+00 2.700e+00 1.080e+00 5.320e+00 3.850e+00 5.710e+00\n",
            " 4.700e+00 6.400e-01 1.930e+00 3.370e+00 4.750e+00 4.080e+00 2.270e+00\n",
            " 4.120e+00 3.480e+00 4.260e+00 1.890e+00 5.440e+00 3.090e+00 6.440e+00\n",
            " 1.150e+00 7.500e-01 7.300e-01 3.400e+00 2.510e+00 1.030e+00 5.380e+00\n",
            " 3.840e+00 3.830e+00 8.600e-01 4.420e+00 6.560e+00 3.170e+00 4.990e+00\n",
            " 7.200e-01 5.770e+00 1.330e+00 2.890e+00 4.360e+00 4.730e+00 1.530e+00\n",
            " 3.780e+00 7.480e+00 3.770e+00 3.820e+00 9.200e-01 1.250e+00 9.900e-01\n",
            " 1.510e+00 2.140e+00 5.610e+00 2.670e+00 1.060e+00 1.500e+00 6.220e+00\n",
            " 2.600e+00 1.630e+00 1.490e+00 5.020e+00 1.480e+00 1.230e+00 2.420e+00\n",
            " 3.450e+00 4.680e+00 1.670e+00 4.720e+00 1.090e+00 3.500e+00 2.490e+00\n",
            " 5.510e+00 1.580e+00 1.760e+00 2.660e+00 3.040e+00 1.560e+00 9.630e+00\n",
            " 4.500e+00 3.070e+00 1.040e+00 1.740e+00 3.610e+00 5.220e+00 4.490e+00\n",
            " 4.150e+00 5.810e+00 1.110e+00 4.350e+00 2.230e+00 5.970e+00 6.500e+00\n",
            " 6.690e+00 1.870e+00 5.980e+00 3.140e+00 4.950e+00 1.420e+00 1.750e+00\n",
            " 1.370e+00 3.640e+00 1.300e+00 4.270e+00 3.760e+00 5.930e+00 5.820e+00\n",
            " 2.080e+00 7.560e+00 2.590e+00 3.600e+00 1.290e+00 2.350e+00 2.500e+00\n",
            " 3.520e+00 3.390e+00 3.910e+00 3.310e+00 3.740e+00 3.670e+00 2.650e+00\n",
            " 2.340e+00 4.480e+00 3.690e+00 5.230e+00 1.280e+00 3.580e+00 6.200e+00\n",
            " 4.410e+00 1.860e+00 3.560e+00 2.180e+00 3.490e+00 2.100e+00 2.090e+00\n",
            " 3.290e+00 4.290e+00 1.720e+00 5.490e+00 4.040e+00 5.370e+00 1.470e+00\n",
            " 3.730e+00 1.640e+00 4.660e+00 1.950e+00 3.220e+00 2.860e+00 3.680e+00\n",
            " 5.360e+00 5.390e+00 4.250e+00 1.440e+00 2.870e+00 4.920e+00 6.730e+00\n",
            " 6.350e+00 5.050e+00 1.960e+00 2.740e+00 2.900e+00 1.070e+00 3.470e+00\n",
            " 6.400e+00 8.900e+00 4.460e+00 6.780e+00 6.160e+00 5.130e+00 3.010e+00\n",
            " 9.320e+00 3.620e+00 7.220e+00 5.880e+00 2.480e+00 3.160e+00 4.590e+00\n",
            " 7.410e+00 2.310e+00 3.870e+00 4.600e+00 7.530e+00 5.100e+00 4.650e+00\n",
            " 4.160e+00 3.720e+00 1.710e+00 5.690e+00 2.280e+00 1.880e+00 1.840e+00\n",
            " 2.620e+00 2.300e+00 1.400e+00 1.570e+00 5.250e+00 5.570e+00 6.300e+00\n",
            " 4.470e+00 2.260e+00 4.240e+00 5.910e+00 2.360e+00 2.830e+00 6.010e+00\n",
            " 4.570e+00 3.420e+00 4.210e+00 2.730e+00 2.680e+00 1.002e+01 5.080e+00\n",
            " 3.410e+00 1.340e+00 4.280e+00 2.580e+00 1.910e+00 1.990e+00 7.210e+00\n",
            " 1.084e+01 4.220e+00 3.710e+00 1.010e+01 7.000e+00 4.880e+00 6.520e+00\n",
            " 5.630e+00 7.350e+00 5.560e+00 6.670e+00 4.190e+00 5.140e+00 3.990e+00\n",
            " 2.410e+00 3.980e+00 6.140e+00 5.200e+00 4.860e+00 2.790e+00 4.140e+00\n",
            " 5.840e+00 7.540e+00 4.970e+00 2.930e+00 3.270e+00 3.440e+00 4.230e+00\n",
            " 9.920e+00 2.950e+00 4.090e+00 4.870e+00 5.400e+00 2.910e+00 6.460e+00\n",
            " 3.050e+00 4.740e+00 5.270e+00 6.070e+00 4.540e+00 1.690e+00 1.920e+00\n",
            " 5.030e+00 3.810e+00 6.210e+00 1.700e+00 3.660e+00 4.370e+00 2.290e+00\n",
            " 4.960e+00 1.031e+01 4.430e+00 1.540e+00 2.220e+00 2.440e+00 1.800e+00\n",
            " 2.980e+00 4.840e+00 5.540e+00 8.710e+00 2.330e+00 7.760e+00 6.470e+00\n",
            " 3.790e+00 9.340e+00 5.000e+00 1.730e+00 2.570e+00 2.240e+00 4.620e+00\n",
            " 5.340e+00 3.280e+00 4.520e+00 4.670e+00 8.830e+00 4.710e+00 2.560e+00\n",
            " 3.880e+00 1.620e+00 3.930e+00 6.900e+00 3.700e+00 3.210e+00 5.870e+00\n",
            " 1.680e+00 2.840e+00 6.250e+00 7.650e+00 4.940e+00 4.780e+00 3.340e+00\n",
            " 3.510e+00 7.590e+00 4.510e+00 2.780e+00 3.200e+00 2.520e+00 3.320e+00\n",
            " 2.450e+00 2.540e+00 6.310e+00 6.370e+00 1.460e+00 4.630e+00 3.530e+00\n",
            " 9.060e+00 4.610e+00 6.790e+00 1.810e+00 2.430e+00 4.310e+00 7.470e+00\n",
            " 5.350e+00 5.260e+00 7.120e+00 2.390e+00 2.470e+00 7.070e+00 2.920e+00\n",
            " 3.250e+00 6.680e+00 6.720e+00 5.800e+00 4.030e+00 3.330e+00 4.450e+00\n",
            " 4.010e+00 2.960e+00 2.190e+00 3.650e+00 6.040e+00 5.150e+00 1.900e+00\n",
            " 3.020e+00 5.700e+00 4.000e+00 2.770e+00 6.270e+00 9.440e+00 5.310e+00\n",
            " 2.020e+00 6.450e+00 5.290e+00 5.730e+00 8.890e+00 6.940e+00 3.950e+00\n",
            " 5.040e+00 3.460e+00 7.100e+00 1.790e+00 2.530e+00 3.230e+00 8.570e+00\n",
            " 4.910e+00 2.200e+00 8.030e+00 4.810e+00 4.800e+00 7.740e+00 5.920e+00\n",
            " 4.580e+00 9.110e+00 3.060e+00 2.550e+00 6.650e+00 5.590e+00 2.640e+00\n",
            " 7.510e+00 4.770e+00 4.760e+00 8.180e+00 4.980e+00 1.078e+01 5.460e+00\n",
            " 3.150e+00 6.710e+00 2.120e+00 3.030e+00 4.060e+00 6.170e+00 5.420e+00\n",
            " 8.110e+00 4.400e+00 6.330e+00 5.500e+00 4.320e+00 6.260e+00 5.010e+00\n",
            " 8.290e+00 8.860e+00 7.580e+00 6.490e+00 5.480e+00 3.540e+00 7.430e+00\n",
            " 4.170e+00 3.110e+00 4.380e+00 6.380e+00 4.180e+00 4.550e+00 5.780e+00\n",
            " 2.610e+00 5.060e+00 5.330e+00 1.129e+01 7.610e+00 3.750e+00 8.590e+00\n",
            " 7.180e+00 6.390e+00 4.890e+00 5.410e+00 5.170e+00 6.320e+00 7.680e+00\n",
            " 7.330e+00 6.830e+00 9.130e+00 8.950e+00 6.960e+00 5.300e+00 6.020e+00\n",
            " 4.390e+00 5.740e+00 4.200e+00 3.120e+00 7.780e+00 4.820e+00 8.070e+00\n",
            " 4.340e+00 9.020e+00 7.190e+00 9.010e+00 8.880e+00 7.030e+00 4.930e+00\n",
            " 5.620e+00 6.050e+00 5.520e+00 2.880e+00 2.170e+00 6.610e+00 7.500e+00\n",
            " 1.438e+01 2.830e+01 5.940e+00 5.790e+00 2.213e+01 1.257e+01 6.510e+00\n",
            " 3.300e+00 6.880e+00 3.360e+00 4.130e+00 7.170e+00 3.630e+00 5.760e+00\n",
            " 4.124e+01 6.230e+00 5.851e+01 4.050e+00 4.100e+00 5.650e+00 6.120e+00\n",
            " 7.300e+00 1.800e+01 4.900e+00 5.120e+00 2.160e+00 7.010e+00 2.850e+00\n",
            " 7.770e+00 3.860e+00 6.890e+00]\n",
            "\n",
            "Variable: calculated_host_listings_count\n",
            "Number of unique variables: 23\n",
            "[ 1  2  3  5  9  8  4 10  6 11  7 38 13 39 21 16 31 19 34 14 17 15 12]\n",
            "\n",
            "Variable: availability_365\n",
            "Number of unique variables: 366\n",
            "[169 106 132 172 210 262 105  16 293   0 324   1 336  75 285  15  58 365\n",
            "  10  27  32 283  76  72  89 181   4 107  81  37  60 219 294 157 274  26\n",
            " 273 350 166 216 267 125  17 114  87 205 339 332  23 245 160 197 207   3\n",
            "   8 182 190  49 323  30  51  38 120 211 256 140 306 188  71 326 356 333\n",
            " 130  65 116 348 331 318 260 354 261 358  34  74 189 229 275  67 133 279\n",
            " 291 320  19 224   2 150  25  83 118 280 127 337  85  20  45  22 286 321\n",
            "  42 178 141 143 108 196 277 200 342  59 180  90 364 334  70  31 158 347\n",
            "  18  12  46 104 281 363  50 282  78 135 327   5 214  63 121 264 111 351\n",
            " 138  55 362 319 290 100 153 352 179 248 345 156 170 222  61 204 164 270\n",
            "  47 304 223   7 191 122 234 278 228  66 353 168  35 250 173 271 314 328\n",
            "  40 344 301 171 134 268 289  28 117 252 221 357 194 213  77 152 230 255\n",
            "  48 202  64 155 235 292 193 359 151  14 263 349   6 232 272 287 177  73\n",
            " 192 238  88 335 355 330 187 119  29  84 220 300  44 109 142 112 212 361\n",
            " 307 215 209  82  97 226 312 102 208 115  11 176  56 124 251  43 317 110\n",
            " 284  36  99  52 159 259 198 343 346 137 162  69 315 241 131 139 288  98\n",
            "  13 225   9 175 186 265  79 206  93 247 113 149  21 231 174 233 218 340\n",
            " 316 322 199 295 123 302 305 325  24 296 148  92 308 183  86  96 201 239\n",
            " 360 240 303 165  62 129 313 101 297 167 185 310 195 257  54  57  80 145\n",
            " 299 144  91 128 146 163  33 242 253  68 341 244 203 147 154 227  94  95\n",
            " 311 309 329  39 246  53  41 126 298 249 236 266 269 103 338 136 237 258\n",
            " 243 276 161 217 254 184]\n",
            "\n"
          ]
        }
      ]
    },
    {
      "cell_type": "code",
      "metadata": {
        "id": "aNmLiGPFBiUv",
        "colab": {
          "base_uri": "https://localhost:8080/",
          "height": 495
        },
        "outputId": "3b177afb-1160-47b2-9ede-7c2d0df3b12b"
      },
      "source": [
        "# visualizing the distribution of outliers\n",
        "plt.figure(figsize = (15, 8))\n",
        "df.boxplot()\n",
        "plt.show()"
      ],
      "execution_count": null,
      "outputs": [
        {
          "output_type": "display_data",
          "data": {
            "image/png": "[encoded data removed]",
            "text/plain": [
              "<Figure size 1080x576 with 1 Axes>"
            ]
          },
          "metadata": {
            "needs_background": "light"
          }
        }
      ]
    },
    {
      "cell_type": "code",
      "metadata": {
        "id": "EF2ckNcZBiUx",
        "colab": {
          "base_uri": "https://localhost:8080/",
          "height": 277
        },
        "outputId": "78d10daf-8a69-4c78-deb2-5317bfebc0c3"
      },
      "source": [
        "# getting the records with outliers\n",
        "q1 = df.quantile(0.25)\n",
        "q3 = df.quantile(0.75)\n",
        "iqr = q3 - q1\n",
        "\n",
        "outliers_df = df[((df < (q1 - 1.5 * iqr)) | (df > (q3 + 1.5 * iqr))).any(axis = 1)]\n",
        "print(outliers_df.shape)\n",
        "outliers_df.sample(3)"
      ],
      "execution_count": null,
      "outputs": [
        {
          "output_type": "stream",
          "name": "stdout",
          "text": [
            "(8544, 14)\n"
          ]
        },
        {
          "output_type": "execute_result",
          "data": {
            "text/html": [
              "\n",
              "  <div id=\"df-455ad702-9aa0-4c74-a20a-60c2747e0697\">\n",
              "    <div class=\"colab-df-container\">\n",
              "      <div>\n",
              "<style scoped>\n",
              "    .dataframe tbody tr th:only-of-type {\n",
              "        vertical-align: middle;\n",
              "    }\n",
              "\n",
              "    .dataframe tbody tr th {\n",
              "        vertical-align: top;\n",
              "    }\n",
              "\n",
              "    .dataframe thead th {\n",
              "        text-align: right;\n",
              "    }\n",
              "</style>\n",
              "<table border=\"1\" class=\"dataframe\">\n",
              "  <thead>\n",
              "    <tr style=\"text-align: right;\">\n",
              "      <th></th>\n",
              "      <th>id</th>\n",
              "      <th>host_id</th>\n",
              "      <th>host_name</th>\n",
              "      <th>neighbourhood</th>\n",
              "      <th>latitude</th>\n",
              "      <th>longitude</th>\n",
              "      <th>room_type</th>\n",
              "      <th>price</th>\n",
              "      <th>minimum_nights</th>\n",
              "      <th>number_of_reviews</th>\n",
              "      <th>last_review</th>\n",
              "      <th>reviews_per_month</th>\n",
              "      <th>calculated_host_listings_count</th>\n",
              "      <th>availability_365</th>\n",
              "    </tr>\n",
              "  </thead>\n",
              "  <tbody>\n",
              "    <tr>\n",
              "      <th>4446</th>\n",
              "      <td>9064499</td>\n",
              "      <td>5329156</td>\n",
              "      <td>S</td>\n",
              "      <td>Centrum-West</td>\n",
              "      <td>52.37673</td>\n",
              "      <td>4.87846</td>\n",
              "      <td>Entire home/apt</td>\n",
              "      <td>90</td>\n",
              "      <td>1</td>\n",
              "      <td>1</td>\n",
              "      <td>2016-03-10</td>\n",
              "      <td>0.02</td>\n",
              "      <td>3</td>\n",
              "      <td>0</td>\n",
              "    </tr>\n",
              "    <tr>\n",
              "      <th>14340</th>\n",
              "      <td>28433800</td>\n",
              "      <td>214649527</td>\n",
              "      <td>Josep</td>\n",
              "      <td>De Pijp - Rivierenbuurt</td>\n",
              "      <td>52.35799</td>\n",
              "      <td>4.89541</td>\n",
              "      <td>Entire home/apt</td>\n",
              "      <td>240</td>\n",
              "      <td>2</td>\n",
              "      <td>2</td>\n",
              "      <td>2019-10-13</td>\n",
              "      <td>0.10</td>\n",
              "      <td>1</td>\n",
              "      <td>0</td>\n",
              "    </tr>\n",
              "    <tr>\n",
              "      <th>51</th>\n",
              "      <td>97221</td>\n",
              "      <td>195859</td>\n",
              "      <td>Gianni</td>\n",
              "      <td>Slotervaart</td>\n",
              "      <td>52.34910</td>\n",
              "      <td>4.83611</td>\n",
              "      <td>Private room</td>\n",
              "      <td>40</td>\n",
              "      <td>2</td>\n",
              "      <td>196</td>\n",
              "      <td>2020-03-24</td>\n",
              "      <td>1.83</td>\n",
              "      <td>2</td>\n",
              "      <td>350</td>\n",
              "    </tr>\n",
              "  </tbody>\n",
              "</table>\n",
              "</div>\n",
              "      <button class=\"colab-df-convert\" onclick=\"convertToInteractive('df-455ad702-9aa0-4c74-a20a-60c2747e0697')\"\n",
              "              title=\"Convert this dataframe to an interactive table.\"\n",
              "              style=\"display:none;\">\n",
              "        \n",
              "  <svg xmlns=\"http://www.w3.org/2000/svg\" height=\"24px\"viewBox=\"0 0 24 24\"\n",
              "       width=\"24px\">\n",
              "    <path d=\"M0 0h24v24H0V0z\" fill=\"none\"/>\n",
              "    <path d=\"M18.56 5.44l.94 2.06.94-2.06 2.06-.94-2.06-.94-.94-2.06-.94 2.06-2.06.94zm-11 1L8.5 8.5l.94-2.06 2.06-.94-2.06-.94L8.5 2.5l-.94 2.06-2.06.94zm10 10l.94 2.06.94-2.06 2.06-.94-2.06-.94-.94-2.06-.94 2.06-2.06.94z\"/><path d=\"M17.41 7.96l-1.37-1.37c-.4-.4-.92-.59-1.43-.59-.52 0-1.04.2-1.43.59L10.3 9.45l-7.72 7.72c-.78.78-.78 2.05 0 2.83L4 21.41c.39.39.9.59 1.41.59.51 0 1.02-.2 1.41-.59l7.78-7.78 2.81-2.81c.8-.78.8-2.07 0-2.86zM5.41 20L4 18.59l7.72-7.72 1.47 1.35L5.41 20z\"/>\n",
              "  </svg>\n",
              "      </button>\n",
              "      \n",
              "  <style>\n",
              "    .colab-df-container {\n",
              "      display:flex;\n",
              "      flex-wrap:wrap;\n",
              "      gap: 12px;\n",
              "    }\n",
              "\n",
              "    .colab-df-convert {\n",
              "      background-color: #E8F0FE;\n",
              "      border: none;\n",
              "      border-radius: 50%;\n",
              "      cursor: pointer;\n",
              "      display: none;\n",
              "      fill: #1967D2;\n",
              "      height: 32px;\n",
              "      padding: 0 0 0 0;\n",
              "      width: 32px;\n",
              "    }\n",
              "\n",
              "    .colab-df-convert:hover {\n",
              "      background-color: #E2EBFA;\n",
              "      box-shadow: 0px 1px 2px rgba(60, 64, 67, 0.3), 0px 1px 3px 1px rgba(60, 64, 67, 0.15);\n",
              "      fill: #174EA6;\n",
              "    }\n",
              "\n",
              "    [theme=dark] .colab-df-convert {\n",
              "      background-color: #3B4455;\n",
              "      fill: #D2E3FC;\n",
              "    }\n",
              "\n",
              "    [theme=dark] .colab-df-convert:hover {\n",
              "      background-color: #434B5C;\n",
              "      box-shadow: 0px 1px 3px 1px rgba(0, 0, 0, 0.15);\n",
              "      filter: drop-shadow(0px 1px 2px rgba(0, 0, 0, 0.3));\n",
              "      fill: #FFFFFF;\n",
              "    }\n",
              "  </style>\n",
              "\n",
              "      <script>\n",
              "        const buttonEl =\n",
              "          document.querySelector('#df-455ad702-9aa0-4c74-a20a-60c2747e0697 button.colab-df-convert');\n",
              "        buttonEl.style.display =\n",
              "          google.colab.kernel.accessAllowed ? 'block' : 'none';\n",
              "\n",
              "        async function convertToInteractive(key) {\n",
              "          const element = document.querySelector('#df-455ad702-9aa0-4c74-a20a-60c2747e0697');\n",
              "          const dataTable =\n",
              "            await google.colab.kernel.invokeFunction('convertToInteractive',\n",
              "                                                     [key], {});\n",
              "          if (!dataTable) return;\n",
              "\n",
              "          const docLinkHtml = 'Like what you see? Visit the ' +\n",
              "            '<a target=\"_blank\" href=https://colab.research.google.com/notebooks/data_table.ipynb>data table notebook</a>'\n",
              "            + ' to learn more about interactive tables.';\n",
              "          element.innerHTML = '';\n",
              "          dataTable['output_type'] = 'display_data';\n",
              "          await google.colab.output.renderOutput(dataTable, element);\n",
              "          const docLink = document.createElement('div');\n",
              "          docLink.innerHTML = docLinkHtml;\n",
              "          element.appendChild(docLink);\n",
              "        }\n",
              "      </script>\n",
              "    </div>\n",
              "  </div>\n",
              "  "
            ],
            "text/plain": [
              "             id    host_id host_name            neighbourhood  latitude  \\\n",
              "4446    9064499    5329156         S             Centrum-West  52.37673   \n",
              "14340  28433800  214649527     Josep  De Pijp - Rivierenbuurt  52.35799   \n",
              "51        97221     195859    Gianni              Slotervaart  52.34910   \n",
              "\n",
              "       longitude        room_type  price  minimum_nights  number_of_reviews  \\\n",
              "4446     4.87846  Entire home/apt     90               1                  1   \n",
              "14340    4.89541  Entire home/apt    240               2                  2   \n",
              "51       4.83611     Private room     40               2                196   \n",
              "\n",
              "      last_review  reviews_per_month  calculated_host_listings_count  \\\n",
              "4446   2016-03-10               0.02                               3   \n",
              "14340  2019-10-13               0.10                               1   \n",
              "51     2020-03-24               1.83                               2   \n",
              "\n",
              "       availability_365  \n",
              "4446                  0  \n",
              "14340                 0  \n",
              "51                  350  "
            ]
          },
          "metadata": {},
          "execution_count": 14
        }
      ]
    },
    {
      "cell_type": "code",
      "metadata": {
        "id": "rYRRRrLyBiU0",
        "colab": {
          "base_uri": "https://localhost:8080/"
        },
        "outputId": "e3355c9e-d704-47e1-ec9c-9f9dcea82a7a"
      },
      "source": [
        "# calculating percentage of outliers\n",
        "round((outliers_df.shape[0] / df.shape[0]) * 100, 2)"
      ],
      "execution_count": null,
      "outputs": [
        {
          "output_type": "execute_result",
          "data": {
            "text/plain": [
              "50.04"
            ]
          },
          "metadata": {},
          "execution_count": 15
        }
      ]
    },
    {
      "cell_type": "markdown",
      "metadata": {
        "id": "cFYNsqcNBiU4"
      },
      "source": [
        "It would be tricky to drop the records with outliers since that will reduce our dataset by half so we will leave them there. However, we will drop the host_id variable later on, right before modeling."
      ]
    },
    {
      "cell_type": "markdown",
      "metadata": {
        "id": "UFT-K1wQBiU5"
      },
      "source": [
        "# <font color='#2F4F4F'>3. Data Analysis</font>"
      ]
    },
    {
      "cell_type": "markdown",
      "metadata": {
        "id": "T3ugplNYBiU5"
      },
      "source": [
        "## 3.1 Univariate Analysis "
      ]
    },
    {
      "cell_type": "code",
      "metadata": {
        "id": "hMJPsYX_BiU6",
        "colab": {
          "base_uri": "https://localhost:8080/",
          "height": 390
        },
        "outputId": "e3328e89-b514-4a6a-a982-b88d3e7a8253"
      },
      "source": [
        "# getting the top 10 most common hosts\n",
        "plt.figure(figsize = (10, 6))\n",
        "df.host_name.value_counts()[:10].plot(kind = 'bar', rot = 0)\n",
        "plt.title(\"Top 10 Hosts\")\n",
        "plt.show()"
      ],
      "execution_count": null,
      "outputs": [
        {
          "output_type": "display_data",
          "data": {
            "image/png": "[encoded data removed]",
            "text/plain": [
              "<Figure size 720x432 with 1 Axes>"
            ]
          },
          "metadata": {
            "needs_background": "light"
          }
        }
      ]
    },
    {
      "cell_type": "code",
      "metadata": {
        "id": "T_NepL5vBiU9",
        "colab": {
          "base_uri": "https://localhost:8080/",
          "height": 472
        },
        "outputId": "b06051be-d08d-45f1-9689-6639f4c510bb"
      },
      "source": [
        "# getting the top 10 most common neighbourhoods\n",
        "plt.figure(figsize = (10, 6))\n",
        "df.neighbourhood.value_counts()[:10].plot(kind = 'bar', rot = 25)\n",
        "plt.xticks(ha = \"right\")\n",
        "plt.title(\"Top 10 Neighbourhoods\")\n",
        "plt.show()"
      ],
      "execution_count": null,
      "outputs": [
        {
          "output_type": "display_data",
          "data": {
            "image/png": "[encoded data removed]",
            "text/plain": [
              "<Figure size 720x432 with 1 Axes>"
            ]
          },
          "metadata": {
            "needs_background": "light"
          }
        }
      ]
    },
    {
      "cell_type": "code",
      "metadata": {
        "id": "336tKm-eBiVB",
        "colab": {
          "base_uri": "https://localhost:8080/"
        },
        "outputId": "b9130d4c-5b1a-443b-d203-e77c0a6b2fe3"
      },
      "source": [
        "df.room_type.value_counts()"
      ],
      "execution_count": null,
      "outputs": [
        {
          "output_type": "execute_result",
          "data": {
            "text/plain": [
              "Entire home/apt    13308\n",
              "Private room        3497\n",
              "Hotel room           232\n",
              "Shared room           38\n",
              "Name: room_type, dtype: int64"
            ]
          },
          "metadata": {},
          "execution_count": 18
        }
      ]
    },
    {
      "cell_type": "code",
      "metadata": {
        "id": "KLmzCtedBiVE",
        "colab": {
          "base_uri": "https://localhost:8080/",
          "height": 466
        },
        "outputId": "0db7b088-7948-4032-dc63-234bdf6d1998"
      },
      "source": [
        "# getting the most common room types\n",
        "plt.figure(figsize = (8, 8))\n",
        "labels = ['Entire home/apt', 'Private room', 'Hotel room', 'Shared room']\n",
        "df.room_type.value_counts().plot(kind = 'pie', autopct = '%0.1f%%', labels = labels)\n",
        "plt.show()"
      ],
      "execution_count": null,
      "outputs": [
        {
          "output_type": "display_data",
          "data": {
            "image/png": "[encoded data removed]",
            "text/plain": [
              "<Figure size 576x576 with 1 Axes>"
            ]
          },
          "metadata": {}
        }
      ]
    },
    {
      "cell_type": "code",
      "metadata": {
        "id": "ffYLNxWmBiVI",
        "colab": {
          "base_uri": "https://localhost:8080/",
          "height": 336
        },
        "outputId": "3841d821-6b6e-42b0-f4b2-06b90395fbac"
      },
      "source": [
        "# distribution of price\n",
        "plt.figure(figsize = (10,4))\n",
        "sns.distplot(df['price'])\n",
        "plt.show()"
      ],
      "execution_count": null,
      "outputs": [
        {
          "output_type": "stream",
          "name": "stderr",
          "text": [
            "/usr/local/lib/python3.7/dist-packages/seaborn/distributions.py:2619: FutureWarning: `distplot` is a deprecated function and will be removed in a future version. Please adapt your code to use either `displot` (a figure-level function with similar flexibility) or `histplot` (an axes-level function for histograms).\n",
            "  warnings.warn(msg, FutureWarning)\n"
          ]
        },
        {
          "output_type": "display_data",
          "data": {
            "image/png": "[encoded data removed]",
            "text/plain": [
              "<Figure size 720x288 with 1 Axes>"
            ]
          },
          "metadata": {
            "needs_background": "light"
          }
        }
      ]
    },
    {
      "cell_type": "code",
      "metadata": {
        "id": "Y_YnBZ0RBiVL",
        "colab": {
          "base_uri": "https://localhost:8080/",
          "height": 320
        },
        "outputId": "14c367f9-63dd-4457-976a-ccb30af27604"
      },
      "source": [
        "# getting the top 10 most common minimum number of nights to spend\n",
        "plt.figure(figsize = (10, 5))\n",
        "df.minimum_nights.value_counts()[:10].plot(kind = 'bar', rot = 0)\n",
        "plt.show()"
      ],
      "execution_count": null,
      "outputs": [
        {
          "output_type": "display_data",
          "data": {
            "image/png": "[encoded data removed]",
            "text/plain": [
              "<Figure size 720x360 with 1 Axes>"
            ]
          },
          "metadata": {
            "needs_background": "light"
          }
        }
      ]
    },
    {
      "cell_type": "markdown",
      "metadata": {
        "id": "OeZUEETkBiVO"
      },
      "source": [
        "## 3.2 Bivariate Analysis"
      ]
    },
    {
      "cell_type": "code",
      "metadata": {
        "id": "ONWbn9UqBiVP",
        "colab": {
          "base_uri": "https://localhost:8080/",
          "height": 388
        },
        "outputId": "e4d413ed-c057-44d9-f17a-00c9e4b14987"
      },
      "source": [
        "# price by room type\n",
        "df.hist('price', by = 'room_type', rot = 0, figsize = (10, 6))\n",
        "plt.show()"
      ],
      "execution_count": null,
      "outputs": [
        {
          "output_type": "display_data",
          "data": {
            "image/png": "[encoded data removed]",
            "text/plain": [
              "<Figure size 720x432 with 4 Axes>"
            ]
          },
          "metadata": {
            "needs_background": "light"
          }
        }
      ]
    },
    {
      "cell_type": "code",
      "metadata": {
        "id": "1_r0mB2YBiVT",
        "colab": {
          "base_uri": "https://localhost:8080/"
        },
        "outputId": "a1083351-9017-4ec8-8d9e-aa81ce9e2e1b"
      },
      "source": [
        "# average price by neighbourhood\n",
        "df.groupby('neighbourhood')['price'].mean().sort_values(ascending = False)"
      ],
      "execution_count": null,
      "outputs": [
        {
          "output_type": "execute_result",
          "data": {
            "text/plain": [
              "neighbourhood\n",
              "Centrum-West                              203.653397\n",
              "Centrum-Oost                              190.534247\n",
              "Zuid                                      178.813243\n",
              "Oud-Noord                                 168.763566\n",
              "De Pijp - Rivierenbuurt                   166.601787\n",
              "IJburg - Zeeburgereiland                  157.723077\n",
              "Westerpark                                151.241140\n",
              "De Baarsjes - Oud-West                    149.376228\n",
              "Oud-Oost                                  144.606957\n",
              "Watergraafsmeer                           141.199125\n",
              "Buitenveldert - Zuidas                    137.690355\n",
              "Oostelijk Havengebied - Indische Buurt    135.101163\n",
              "Noord-Oost                                130.495833\n",
              "Noord-West                                126.318885\n",
              "Bos en Lommer                             122.525304\n",
              "De Aker - Nieuw Sloten                    121.268908\n",
              "Slotervaart                               119.791549\n",
              "Geuzenveld - Slotermeer                   113.937143\n",
              "Osdorp                                    103.418182\n",
              "Gaasperdam - Driemond                      96.317757\n",
              "Bijlmer-Centrum                            91.434343\n",
              "Bijlmer-Oost                               89.696629\n",
              "Name: price, dtype: float64"
            ]
          },
          "metadata": {},
          "execution_count": 23
        }
      ]
    },
    {
      "cell_type": "code",
      "metadata": {
        "id": "icZWqXs3BiVd",
        "colab": {
          "base_uri": "https://localhost:8080/"
        },
        "outputId": "16f7c0fe-fc9e-4d62-e9ff-076b2c0eb5a2"
      },
      "source": [
        "# average price by neighbourhood\n",
        "df.groupby('minimum_nights')['price'].mean().sort_values(ascending = False)"
      ],
      "execution_count": null,
      "outputs": [
        {
          "output_type": "execute_result",
          "data": {
            "text/plain": [
              "minimum_nights\n",
              "365     3000.000000\n",
              "200      999.000000\n",
              "99       999.000000\n",
              "52       429.000000\n",
              "30       331.551020\n",
              "222      300.000000\n",
              "27       275.000000\n",
              "48       250.000000\n",
              "31       243.750000\n",
              "150      203.000000\n",
              "21       201.761905\n",
              "15       197.888889\n",
              "1000     185.000000\n",
              "240      180.000000\n",
              "28       175.900000\n",
              "7        174.760526\n",
              "300      170.500000\n",
              "180      169.250000\n",
              "3        166.936544\n",
              "14       163.476923\n",
              "38       159.000000\n",
              "4        158.828311\n",
              "45       157.500000\n",
              "5        155.676190\n",
              "1        154.149670\n",
              "60       152.071429\n",
              "2        151.557365\n",
              "24       150.000000\n",
              "22       150.000000\n",
              "6        146.276923\n",
              "59       146.250000\n",
              "40       139.000000\n",
              "9        136.250000\n",
              "41       131.000000\n",
              "20       130.185185\n",
              "1001     130.000000\n",
              "16       129.666667\n",
              "100      127.000000\n",
              "90       126.250000\n",
              "10       125.709677\n",
              "18       125.000000\n",
              "8        120.730769\n",
              "999      120.000000\n",
              "29       120.000000\n",
              "25       118.555556\n",
              "12       118.083333\n",
              "500      110.000000\n",
              "50       110.000000\n",
              "17       109.500000\n",
              "95       105.000000\n",
              "13       104.750000\n",
              "120      104.500000\n",
              "186      100.000000\n",
              "37        95.000000\n",
              "19        93.000000\n",
              "70        90.000000\n",
              "23        89.000000\n",
              "11        83.333333\n",
              "89        77.000000\n",
              "35        45.000000\n",
              "Name: price, dtype: float64"
            ]
          },
          "metadata": {},
          "execution_count": 24
        }
      ]
    },
    {
      "cell_type": "markdown",
      "metadata": {
        "id": "RAMIxPNBBiVh"
      },
      "source": [
        "## 3.3 Feature Engineering"
      ]
    },
    {
      "cell_type": "code",
      "metadata": {
        "id": "amDK304_BiVi",
        "colab": {
          "base_uri": "https://localhost:8080/",
          "height": 312
        },
        "outputId": "0b7dabd5-0393-420a-a8a9-affef5899c34"
      },
      "source": [
        "# getting the average price per room type\n",
        "average_price_per_room = df.groupby('room_type')['price'].mean().sort_values(ascending = False)\n",
        "\n",
        "# adding to our dataset\n",
        "df['average price per room'] = df['room_type'].map(average_price_per_room)\n",
        "\n",
        "# # # # previewing our modified dataset\n",
        "df.head(3)"
      ],
      "execution_count": null,
      "outputs": [
        {
          "output_type": "execute_result",
          "data": {
            "text/html": [
              "\n",
              "  <div id=\"df-b7832826-b4f3-4729-b49f-ad2ee1955353\">\n",
              "    <div class=\"colab-df-container\">\n",
              "      <div>\n",
              "<style scoped>\n",
              "    .dataframe tbody tr th:only-of-type {\n",
              "        vertical-align: middle;\n",
              "    }\n",
              "\n",
              "    .dataframe tbody tr th {\n",
              "        vertical-align: top;\n",
              "    }\n",
              "\n",
              "    .dataframe thead th {\n",
              "        text-align: right;\n",
              "    }\n",
              "</style>\n",
              "<table border=\"1\" class=\"dataframe\">\n",
              "  <thead>\n",
              "    <tr style=\"text-align: right;\">\n",
              "      <th></th>\n",
              "      <th>id</th>\n",
              "      <th>host_id</th>\n",
              "      <th>host_name</th>\n",
              "      <th>neighbourhood</th>\n",
              "      <th>latitude</th>\n",
              "      <th>longitude</th>\n",
              "      <th>room_type</th>\n",
              "      <th>price</th>\n",
              "      <th>minimum_nights</th>\n",
              "      <th>number_of_reviews</th>\n",
              "      <th>last_review</th>\n",
              "      <th>reviews_per_month</th>\n",
              "      <th>calculated_host_listings_count</th>\n",
              "      <th>availability_365</th>\n",
              "      <th>average price per room</th>\n",
              "    </tr>\n",
              "  </thead>\n",
              "  <tbody>\n",
              "    <tr>\n",
              "      <th>0</th>\n",
              "      <td>2818</td>\n",
              "      <td>3159</td>\n",
              "      <td>Daniel</td>\n",
              "      <td>Oostelijk Havengebied - Indische Buurt</td>\n",
              "      <td>52.36575</td>\n",
              "      <td>4.94142</td>\n",
              "      <td>Private room</td>\n",
              "      <td>59</td>\n",
              "      <td>3</td>\n",
              "      <td>278</td>\n",
              "      <td>2020-02-14</td>\n",
              "      <td>2.06</td>\n",
              "      <td>1</td>\n",
              "      <td>169</td>\n",
              "      <td>109.421504</td>\n",
              "    </tr>\n",
              "    <tr>\n",
              "      <th>1</th>\n",
              "      <td>20168</td>\n",
              "      <td>59484</td>\n",
              "      <td>Alexander</td>\n",
              "      <td>Centrum-Oost</td>\n",
              "      <td>52.36509</td>\n",
              "      <td>4.89354</td>\n",
              "      <td>Private room</td>\n",
              "      <td>100</td>\n",
              "      <td>1</td>\n",
              "      <td>340</td>\n",
              "      <td>2020-04-09</td>\n",
              "      <td>2.76</td>\n",
              "      <td>2</td>\n",
              "      <td>106</td>\n",
              "      <td>109.421504</td>\n",
              "    </tr>\n",
              "    <tr>\n",
              "      <th>2</th>\n",
              "      <td>25428</td>\n",
              "      <td>56142</td>\n",
              "      <td>Joan</td>\n",
              "      <td>Centrum-West</td>\n",
              "      <td>52.37297</td>\n",
              "      <td>4.88339</td>\n",
              "      <td>Entire home/apt</td>\n",
              "      <td>125</td>\n",
              "      <td>14</td>\n",
              "      <td>5</td>\n",
              "      <td>2020-02-09</td>\n",
              "      <td>0.18</td>\n",
              "      <td>1</td>\n",
              "      <td>132</td>\n",
              "      <td>169.179967</td>\n",
              "    </tr>\n",
              "  </tbody>\n",
              "</table>\n",
              "</div>\n",
              "      <button class=\"colab-df-convert\" onclick=\"convertToInteractive('df-b7832826-b4f3-4729-b49f-ad2ee1955353')\"\n",
              "              title=\"Convert this dataframe to an interactive table.\"\n",
              "              style=\"display:none;\">\n",
              "        \n",
              "  <svg xmlns=\"http://www.w3.org/2000/svg\" height=\"24px\"viewBox=\"0 0 24 24\"\n",
              "       width=\"24px\">\n",
              "    <path d=\"M0 0h24v24H0V0z\" fill=\"none\"/>\n",
              "    <path d=\"M18.56 5.44l.94 2.06.94-2.06 2.06-.94-2.06-.94-.94-2.06-.94 2.06-2.06.94zm-11 1L8.5 8.5l.94-2.06 2.06-.94-2.06-.94L8.5 2.5l-.94 2.06-2.06.94zm10 10l.94 2.06.94-2.06 2.06-.94-2.06-.94-.94-2.06-.94 2.06-2.06.94z\"/><path d=\"M17.41 7.96l-1.37-1.37c-.4-.4-.92-.59-1.43-.59-.52 0-1.04.2-1.43.59L10.3 9.45l-7.72 7.72c-.78.78-.78 2.05 0 2.83L4 21.41c.39.39.9.59 1.41.59.51 0 1.02-.2 1.41-.59l7.78-7.78 2.81-2.81c.8-.78.8-2.07 0-2.86zM5.41 20L4 18.59l7.72-7.72 1.47 1.35L5.41 20z\"/>\n",
              "  </svg>\n",
              "      </button>\n",
              "      \n",
              "  <style>\n",
              "    .colab-df-container {\n",
              "      display:flex;\n",
              "      flex-wrap:wrap;\n",
              "      gap: 12px;\n",
              "    }\n",
              "\n",
              "    .colab-df-convert {\n",
              "      background-color: #E8F0FE;\n",
              "      border: none;\n",
              "      border-radius: 50%;\n",
              "      cursor: pointer;\n",
              "      display: none;\n",
              "      fill: #1967D2;\n",
              "      height: 32px;\n",
              "      padding: 0 0 0 0;\n",
              "      width: 32px;\n",
              "    }\n",
              "\n",
              "    .colab-df-convert:hover {\n",
              "      background-color: #E2EBFA;\n",
              "      box-shadow: 0px 1px 2px rgba(60, 64, 67, 0.3), 0px 1px 3px 1px rgba(60, 64, 67, 0.15);\n",
              "      fill: #174EA6;\n",
              "    }\n",
              "\n",
              "    [theme=dark] .colab-df-convert {\n",
              "      background-color: #3B4455;\n",
              "      fill: #D2E3FC;\n",
              "    }\n",
              "\n",
              "    [theme=dark] .colab-df-convert:hover {\n",
              "      background-color: #434B5C;\n",
              "      box-shadow: 0px 1px 3px 1px rgba(0, 0, 0, 0.15);\n",
              "      filter: drop-shadow(0px 1px 2px rgba(0, 0, 0, 0.3));\n",
              "      fill: #FFFFFF;\n",
              "    }\n",
              "  </style>\n",
              "\n",
              "      <script>\n",
              "        const buttonEl =\n",
              "          document.querySelector('#df-b7832826-b4f3-4729-b49f-ad2ee1955353 button.colab-df-convert');\n",
              "        buttonEl.style.display =\n",
              "          google.colab.kernel.accessAllowed ? 'block' : 'none';\n",
              "\n",
              "        async function convertToInteractive(key) {\n",
              "          const element = document.querySelector('#df-b7832826-b4f3-4729-b49f-ad2ee1955353');\n",
              "          const dataTable =\n",
              "            await google.colab.kernel.invokeFunction('convertToInteractive',\n",
              "                                                     [key], {});\n",
              "          if (!dataTable) return;\n",
              "\n",
              "          const docLinkHtml = 'Like what you see? Visit the ' +\n",
              "            '<a target=\"_blank\" href=https://colab.research.google.com/notebooks/data_table.ipynb>data table notebook</a>'\n",
              "            + ' to learn more about interactive tables.';\n",
              "          element.innerHTML = '';\n",
              "          dataTable['output_type'] = 'display_data';\n",
              "          await google.colab.output.renderOutput(dataTable, element);\n",
              "          const docLink = document.createElement('div');\n",
              "          docLink.innerHTML = docLinkHtml;\n",
              "          element.appendChild(docLink);\n",
              "        }\n",
              "      </script>\n",
              "    </div>\n",
              "  </div>\n",
              "  "
            ],
            "text/plain": [
              "      id  host_id  host_name                           neighbourhood  \\\n",
              "0   2818     3159     Daniel  Oostelijk Havengebied - Indische Buurt   \n",
              "1  20168    59484  Alexander                            Centrum-Oost   \n",
              "2  25428    56142       Joan                            Centrum-West   \n",
              "\n",
              "   latitude  longitude        room_type  price  minimum_nights  \\\n",
              "0  52.36575    4.94142     Private room     59               3   \n",
              "1  52.36509    4.89354     Private room    100               1   \n",
              "2  52.37297    4.88339  Entire home/apt    125              14   \n",
              "\n",
              "   number_of_reviews last_review  reviews_per_month  \\\n",
              "0                278  2020-02-14               2.06   \n",
              "1                340  2020-04-09               2.76   \n",
              "2                  5  2020-02-09               0.18   \n",
              "\n",
              "   calculated_host_listings_count  availability_365  average price per room  \n",
              "0                               1               169              109.421504  \n",
              "1                               2               106              109.421504  \n",
              "2                               1               132              169.179967  "
            ]
          },
          "metadata": {},
          "execution_count": 25
        }
      ]
    },
    {
      "cell_type": "code",
      "metadata": {
        "id": "6DxMshHtBiVm",
        "colab": {
          "base_uri": "https://localhost:8080/",
          "height": 312
        },
        "outputId": "4ea4e716-52d4-45b8-d684-55791c085aed"
      },
      "source": [
        "# getting the average price per neighbourhood\n",
        "average_price_per_neighbourhood = df.groupby('neighbourhood')['price'].mean().sort_values(ascending = False)\n",
        "\n",
        "# # adding to our dataset\n",
        "df['average price per neighbourhood'] = df['neighbourhood'].map(average_price_per_neighbourhood)\n",
        "\n",
        "# # previewing our modified dataset\n",
        "df.head(3)"
      ],
      "execution_count": null,
      "outputs": [
        {
          "output_type": "execute_result",
          "data": {
            "text/html": [
              "\n",
              "  <div id=\"df-dfb5f451-c9f1-43f5-8aa6-50eb45d54735\">\n",
              "    <div class=\"colab-df-container\">\n",
              "      <div>\n",
              "<style scoped>\n",
              "    .dataframe tbody tr th:only-of-type {\n",
              "        vertical-align: middle;\n",
              "    }\n",
              "\n",
              "    .dataframe tbody tr th {\n",
              "        vertical-align: top;\n",
              "    }\n",
              "\n",
              "    .dataframe thead th {\n",
              "        text-align: right;\n",
              "    }\n",
              "</style>\n",
              "<table border=\"1\" class=\"dataframe\">\n",
              "  <thead>\n",
              "    <tr style=\"text-align: right;\">\n",
              "      <th></th>\n",
              "      <th>id</th>\n",
              "      <th>host_id</th>\n",
              "      <th>host_name</th>\n",
              "      <th>neighbourhood</th>\n",
              "      <th>latitude</th>\n",
              "      <th>longitude</th>\n",
              "      <th>room_type</th>\n",
              "      <th>price</th>\n",
              "      <th>minimum_nights</th>\n",
              "      <th>number_of_reviews</th>\n",
              "      <th>last_review</th>\n",
              "      <th>reviews_per_month</th>\n",
              "      <th>calculated_host_listings_count</th>\n",
              "      <th>availability_365</th>\n",
              "      <th>average price per room</th>\n",
              "      <th>average price per neighbourhood</th>\n",
              "    </tr>\n",
              "  </thead>\n",
              "  <tbody>\n",
              "    <tr>\n",
              "      <th>0</th>\n",
              "      <td>2818</td>\n",
              "      <td>3159</td>\n",
              "      <td>Daniel</td>\n",
              "      <td>Oostelijk Havengebied - Indische Buurt</td>\n",
              "      <td>52.36575</td>\n",
              "      <td>4.94142</td>\n",
              "      <td>Private room</td>\n",
              "      <td>59</td>\n",
              "      <td>3</td>\n",
              "      <td>278</td>\n",
              "      <td>2020-02-14</td>\n",
              "      <td>2.06</td>\n",
              "      <td>1</td>\n",
              "      <td>169</td>\n",
              "      <td>109.421504</td>\n",
              "      <td>135.101163</td>\n",
              "    </tr>\n",
              "    <tr>\n",
              "      <th>1</th>\n",
              "      <td>20168</td>\n",
              "      <td>59484</td>\n",
              "      <td>Alexander</td>\n",
              "      <td>Centrum-Oost</td>\n",
              "      <td>52.36509</td>\n",
              "      <td>4.89354</td>\n",
              "      <td>Private room</td>\n",
              "      <td>100</td>\n",
              "      <td>1</td>\n",
              "      <td>340</td>\n",
              "      <td>2020-04-09</td>\n",
              "      <td>2.76</td>\n",
              "      <td>2</td>\n",
              "      <td>106</td>\n",
              "      <td>109.421504</td>\n",
              "      <td>190.534247</td>\n",
              "    </tr>\n",
              "    <tr>\n",
              "      <th>2</th>\n",
              "      <td>25428</td>\n",
              "      <td>56142</td>\n",
              "      <td>Joan</td>\n",
              "      <td>Centrum-West</td>\n",
              "      <td>52.37297</td>\n",
              "      <td>4.88339</td>\n",
              "      <td>Entire home/apt</td>\n",
              "      <td>125</td>\n",
              "      <td>14</td>\n",
              "      <td>5</td>\n",
              "      <td>2020-02-09</td>\n",
              "      <td>0.18</td>\n",
              "      <td>1</td>\n",
              "      <td>132</td>\n",
              "      <td>169.179967</td>\n",
              "      <td>203.653397</td>\n",
              "    </tr>\n",
              "  </tbody>\n",
              "</table>\n",
              "</div>\n",
              "      <button class=\"colab-df-convert\" onclick=\"convertToInteractive('df-dfb5f451-c9f1-43f5-8aa6-50eb45d54735')\"\n",
              "              title=\"Convert this dataframe to an interactive table.\"\n",
              "              style=\"display:none;\">\n",
              "        \n",
              "  <svg xmlns=\"http://www.w3.org/2000/svg\" height=\"24px\"viewBox=\"0 0 24 24\"\n",
              "       width=\"24px\">\n",
              "    <path d=\"M0 0h24v24H0V0z\" fill=\"none\"/>\n",
              "    <path d=\"M18.56 5.44l.94 2.06.94-2.06 2.06-.94-2.06-.94-.94-2.06-.94 2.06-2.06.94zm-11 1L8.5 8.5l.94-2.06 2.06-.94-2.06-.94L8.5 2.5l-.94 2.06-2.06.94zm10 10l.94 2.06.94-2.06 2.06-.94-2.06-.94-.94-2.06-.94 2.06-2.06.94z\"/><path d=\"M17.41 7.96l-1.37-1.37c-.4-.4-.92-.59-1.43-.59-.52 0-1.04.2-1.43.59L10.3 9.45l-7.72 7.72c-.78.78-.78 2.05 0 2.83L4 21.41c.39.39.9.59 1.41.59.51 0 1.02-.2 1.41-.59l7.78-7.78 2.81-2.81c.8-.78.8-2.07 0-2.86zM5.41 20L4 18.59l7.72-7.72 1.47 1.35L5.41 20z\"/>\n",
              "  </svg>\n",
              "      </button>\n",
              "      \n",
              "  <style>\n",
              "    .colab-df-container {\n",
              "      display:flex;\n",
              "      flex-wrap:wrap;\n",
              "      gap: 12px;\n",
              "    }\n",
              "\n",
              "    .colab-df-convert {\n",
              "      background-color: #E8F0FE;\n",
              "      border: none;\n",
              "      border-radius: 50%;\n",
              "      cursor: pointer;\n",
              "      display: none;\n",
              "      fill: #1967D2;\n",
              "      height: 32px;\n",
              "      padding: 0 0 0 0;\n",
              "      width: 32px;\n",
              "    }\n",
              "\n",
              "    .colab-df-convert:hover {\n",
              "      background-color: #E2EBFA;\n",
              "      box-shadow: 0px 1px 2px rgba(60, 64, 67, 0.3), 0px 1px 3px 1px rgba(60, 64, 67, 0.15);\n",
              "      fill: #174EA6;\n",
              "    }\n",
              "\n",
              "    [theme=dark] .colab-df-convert {\n",
              "      background-color: #3B4455;\n",
              "      fill: #D2E3FC;\n",
              "    }\n",
              "\n",
              "    [theme=dark] .colab-df-convert:hover {\n",
              "      background-color: #434B5C;\n",
              "      box-shadow: 0px 1px 3px 1px rgba(0, 0, 0, 0.15);\n",
              "      filter: drop-shadow(0px 1px 2px rgba(0, 0, 0, 0.3));\n",
              "      fill: #FFFFFF;\n",
              "    }\n",
              "  </style>\n",
              "\n",
              "      <script>\n",
              "        const buttonEl =\n",
              "          document.querySelector('#df-dfb5f451-c9f1-43f5-8aa6-50eb45d54735 button.colab-df-convert');\n",
              "        buttonEl.style.display =\n",
              "          google.colab.kernel.accessAllowed ? 'block' : 'none';\n",
              "\n",
              "        async function convertToInteractive(key) {\n",
              "          const element = document.querySelector('#df-dfb5f451-c9f1-43f5-8aa6-50eb45d54735');\n",
              "          const dataTable =\n",
              "            await google.colab.kernel.invokeFunction('convertToInteractive',\n",
              "                                                     [key], {});\n",
              "          if (!dataTable) return;\n",
              "\n",
              "          const docLinkHtml = 'Like what you see? Visit the ' +\n",
              "            '<a target=\"_blank\" href=https://colab.research.google.com/notebooks/data_table.ipynb>data table notebook</a>'\n",
              "            + ' to learn more about interactive tables.';\n",
              "          element.innerHTML = '';\n",
              "          dataTable['output_type'] = 'display_data';\n",
              "          await google.colab.output.renderOutput(dataTable, element);\n",
              "          const docLink = document.createElement('div');\n",
              "          docLink.innerHTML = docLinkHtml;\n",
              "          element.appendChild(docLink);\n",
              "        }\n",
              "      </script>\n",
              "    </div>\n",
              "  </div>\n",
              "  "
            ],
            "text/plain": [
              "      id  host_id  host_name                           neighbourhood  \\\n",
              "0   2818     3159     Daniel  Oostelijk Havengebied - Indische Buurt   \n",
              "1  20168    59484  Alexander                            Centrum-Oost   \n",
              "2  25428    56142       Joan                            Centrum-West   \n",
              "\n",
              "   latitude  longitude        room_type  price  minimum_nights  \\\n",
              "0  52.36575    4.94142     Private room     59               3   \n",
              "1  52.36509    4.89354     Private room    100               1   \n",
              "2  52.37297    4.88339  Entire home/apt    125              14   \n",
              "\n",
              "   number_of_reviews last_review  reviews_per_month  \\\n",
              "0                278  2020-02-14               2.06   \n",
              "1                340  2020-04-09               2.76   \n",
              "2                  5  2020-02-09               0.18   \n",
              "\n",
              "   calculated_host_listings_count  availability_365  average price per room  \\\n",
              "0                               1               169              109.421504   \n",
              "1                               2               106              109.421504   \n",
              "2                               1               132              169.179967   \n",
              "\n",
              "   average price per neighbourhood  \n",
              "0                       135.101163  \n",
              "1                       190.534247  \n",
              "2                       203.653397  "
            ]
          },
          "metadata": {},
          "execution_count": 26
        }
      ]
    },
    {
      "cell_type": "code",
      "metadata": {
        "id": "5cE9g8rHBiVp"
      },
      "source": [
        "# encoding 'room_type'\n",
        "df = pd.get_dummies(df, columns=['room_type']).head(3)"
      ],
      "execution_count": null,
      "outputs": []
    },
    {
      "cell_type": "code",
      "metadata": {
        "id": "ZQkBcgN9BiVr",
        "colab": {
          "base_uri": "https://localhost:8080/",
          "height": 242
        },
        "outputId": "816b534d-1ee1-4a80-8952-a25d1f6d1b5e"
      },
      "source": [
        "# dropping unneeded columns in preparation for modeling\n",
        "df.drop(columns = ['id','host_id','host_name','neighbourhood','last_review'], inplace = True)\n",
        "df"
      ],
      "execution_count": null,
      "outputs": [
        {
          "output_type": "execute_result",
          "data": {
            "text/html": [
              "\n",
              "  <div id=\"df-5c5f7c1f-76eb-4486-ab60-fe89d435b0df\">\n",
              "    <div class=\"colab-df-container\">\n",
              "      <div>\n",
              "<style scoped>\n",
              "    .dataframe tbody tr th:only-of-type {\n",
              "        vertical-align: middle;\n",
              "    }\n",
              "\n",
              "    .dataframe tbody tr th {\n",
              "        vertical-align: top;\n",
              "    }\n",
              "\n",
              "    .dataframe thead th {\n",
              "        text-align: right;\n",
              "    }\n",
              "</style>\n",
              "<table border=\"1\" class=\"dataframe\">\n",
              "  <thead>\n",
              "    <tr style=\"text-align: right;\">\n",
              "      <th></th>\n",
              "      <th>latitude</th>\n",
              "      <th>longitude</th>\n",
              "      <th>price</th>\n",
              "      <th>minimum_nights</th>\n",
              "      <th>number_of_reviews</th>\n",
              "      <th>reviews_per_month</th>\n",
              "      <th>calculated_host_listings_count</th>\n",
              "      <th>availability_365</th>\n",
              "      <th>average price per room</th>\n",
              "      <th>average price per neighbourhood</th>\n",
              "      <th>room_type_Entire home/apt</th>\n",
              "      <th>room_type_Hotel room</th>\n",
              "      <th>room_type_Private room</th>\n",
              "      <th>room_type_Shared room</th>\n",
              "    </tr>\n",
              "  </thead>\n",
              "  <tbody>\n",
              "    <tr>\n",
              "      <th>0</th>\n",
              "      <td>52.36575</td>\n",
              "      <td>4.94142</td>\n",
              "      <td>59</td>\n",
              "      <td>3</td>\n",
              "      <td>278</td>\n",
              "      <td>2.06</td>\n",
              "      <td>1</td>\n",
              "      <td>169</td>\n",
              "      <td>109.421504</td>\n",
              "      <td>135.101163</td>\n",
              "      <td>0</td>\n",
              "      <td>0</td>\n",
              "      <td>1</td>\n",
              "      <td>0</td>\n",
              "    </tr>\n",
              "    <tr>\n",
              "      <th>1</th>\n",
              "      <td>52.36509</td>\n",
              "      <td>4.89354</td>\n",
              "      <td>100</td>\n",
              "      <td>1</td>\n",
              "      <td>340</td>\n",
              "      <td>2.76</td>\n",
              "      <td>2</td>\n",
              "      <td>106</td>\n",
              "      <td>109.421504</td>\n",
              "      <td>190.534247</td>\n",
              "      <td>0</td>\n",
              "      <td>0</td>\n",
              "      <td>1</td>\n",
              "      <td>0</td>\n",
              "    </tr>\n",
              "    <tr>\n",
              "      <th>2</th>\n",
              "      <td>52.37297</td>\n",
              "      <td>4.88339</td>\n",
              "      <td>125</td>\n",
              "      <td>14</td>\n",
              "      <td>5</td>\n",
              "      <td>0.18</td>\n",
              "      <td>1</td>\n",
              "      <td>132</td>\n",
              "      <td>169.179967</td>\n",
              "      <td>203.653397</td>\n",
              "      <td>1</td>\n",
              "      <td>0</td>\n",
              "      <td>0</td>\n",
              "      <td>0</td>\n",
              "    </tr>\n",
              "  </tbody>\n",
              "</table>\n",
              "</div>\n",
              "      <button class=\"colab-df-convert\" onclick=\"convertToInteractive('df-5c5f7c1f-76eb-4486-ab60-fe89d435b0df')\"\n",
              "              title=\"Convert this dataframe to an interactive table.\"\n",
              "              style=\"display:none;\">\n",
              "        \n",
              "  <svg xmlns=\"http://www.w3.org/2000/svg\" height=\"24px\"viewBox=\"0 0 24 24\"\n",
              "       width=\"24px\">\n",
              "    <path d=\"M0 0h24v24H0V0z\" fill=\"none\"/>\n",
              "    <path d=\"M18.56 5.44l.94 2.06.94-2.06 2.06-.94-2.06-.94-.94-2.06-.94 2.06-2.06.94zm-11 1L8.5 8.5l.94-2.06 2.06-.94-2.06-.94L8.5 2.5l-.94 2.06-2.06.94zm10 10l.94 2.06.94-2.06 2.06-.94-2.06-.94-.94-2.06-.94 2.06-2.06.94z\"/><path d=\"M17.41 7.96l-1.37-1.37c-.4-.4-.92-.59-1.43-.59-.52 0-1.04.2-1.43.59L10.3 9.45l-7.72 7.72c-.78.78-.78 2.05 0 2.83L4 21.41c.39.39.9.59 1.41.59.51 0 1.02-.2 1.41-.59l7.78-7.78 2.81-2.81c.8-.78.8-2.07 0-2.86zM5.41 20L4 18.59l7.72-7.72 1.47 1.35L5.41 20z\"/>\n",
              "  </svg>\n",
              "      </button>\n",
              "      \n",
              "  <style>\n",
              "    .colab-df-container {\n",
              "      display:flex;\n",
              "      flex-wrap:wrap;\n",
              "      gap: 12px;\n",
              "    }\n",
              "\n",
              "    .colab-df-convert {\n",
              "      background-color: #E8F0FE;\n",
              "      border: none;\n",
              "      border-radius: 50%;\n",
              "      cursor: pointer;\n",
              "      display: none;\n",
              "      fill: #1967D2;\n",
              "      height: 32px;\n",
              "      padding: 0 0 0 0;\n",
              "      width: 32px;\n",
              "    }\n",
              "\n",
              "    .colab-df-convert:hover {\n",
              "      background-color: #E2EBFA;\n",
              "      box-shadow: 0px 1px 2px rgba(60, 64, 67, 0.3), 0px 1px 3px 1px rgba(60, 64, 67, 0.15);\n",
              "      fill: #174EA6;\n",
              "    }\n",
              "\n",
              "    [theme=dark] .colab-df-convert {\n",
              "      background-color: #3B4455;\n",
              "      fill: #D2E3FC;\n",
              "    }\n",
              "\n",
              "    [theme=dark] .colab-df-convert:hover {\n",
              "      background-color: #434B5C;\n",
              "      box-shadow: 0px 1px 3px 1px rgba(0, 0, 0, 0.15);\n",
              "      filter: drop-shadow(0px 1px 2px rgba(0, 0, 0, 0.3));\n",
              "      fill: #FFFFFF;\n",
              "    }\n",
              "  </style>\n",
              "\n",
              "      <script>\n",
              "        const buttonEl =\n",
              "          document.querySelector('#df-5c5f7c1f-76eb-4486-ab60-fe89d435b0df button.colab-df-convert');\n",
              "        buttonEl.style.display =\n",
              "          google.colab.kernel.accessAllowed ? 'block' : 'none';\n",
              "\n",
              "        async function convertToInteractive(key) {\n",
              "          const element = document.querySelector('#df-5c5f7c1f-76eb-4486-ab60-fe89d435b0df');\n",
              "          const dataTable =\n",
              "            await google.colab.kernel.invokeFunction('convertToInteractive',\n",
              "                                                     [key], {});\n",
              "          if (!dataTable) return;\n",
              "\n",
              "          const docLinkHtml = 'Like what you see? Visit the ' +\n",
              "            '<a target=\"_blank\" href=https://colab.research.google.com/notebooks/data_table.ipynb>data table notebook</a>'\n",
              "            + ' to learn more about interactive tables.';\n",
              "          element.innerHTML = '';\n",
              "          dataTable['output_type'] = 'display_data';\n",
              "          await google.colab.output.renderOutput(dataTable, element);\n",
              "          const docLink = document.createElement('div');\n",
              "          docLink.innerHTML = docLinkHtml;\n",
              "          element.appendChild(docLink);\n",
              "        }\n",
              "      </script>\n",
              "    </div>\n",
              "  </div>\n",
              "  "
            ],
            "text/plain": [
              "   latitude  longitude  price  minimum_nights  number_of_reviews  \\\n",
              "0  52.36575    4.94142     59               3                278   \n",
              "1  52.36509    4.89354    100               1                340   \n",
              "2  52.37297    4.88339    125              14                  5   \n",
              "\n",
              "   reviews_per_month  calculated_host_listings_count  availability_365  \\\n",
              "0               2.06                               1               169   \n",
              "1               2.76                               2               106   \n",
              "2               0.18                               1               132   \n",
              "\n",
              "   average price per room  average price per neighbourhood  \\\n",
              "0              109.421504                       135.101163   \n",
              "1              109.421504                       190.534247   \n",
              "2              169.179967                       203.653397   \n",
              "\n",
              "   room_type_Entire home/apt  room_type_Hotel room  room_type_Private room  \\\n",
              "0                          0                     0                       1   \n",
              "1                          0                     0                       1   \n",
              "2                          1                     0                       0   \n",
              "\n",
              "   room_type_Shared room  \n",
              "0                      0  \n",
              "1                      0  \n",
              "2                      0  "
            ]
          },
          "metadata": {},
          "execution_count": 28
        }
      ]
    },
    {
      "cell_type": "markdown",
      "metadata": {
        "id": "l1ciT2WtBiVv"
      },
      "source": [
        "# <font color='#2F4F4F'>4. Data Modeling</font>"
      ]
    },
    {
      "cell_type": "code",
      "metadata": {
        "id": "p5etKU12BiVv"
      },
      "source": [
        "# split into features (X) and label (Y)\n",
        "X = df.iloc[:, [0,1,3,4,5,6,7,8,9,10,11,12,13]] \n",
        "y = df.iloc[:, 2]"
      ],
      "execution_count": null,
      "outputs": []
    },
    {
      "cell_type": "code",
      "metadata": {
        "id": "6HBMvY_IBiVy"
      },
      "source": [
        "# split into 70-30 train and test sets\n",
        "from sklearn.model_selection import train_test_split\n",
        "X_train, X_test, y_train, y_test = train_test_split(X, y, test_size = 0.3, random_state = 42)"
      ],
      "execution_count": null,
      "outputs": []
    },
    {
      "cell_type": "code",
      "metadata": {
        "id": "FYjh75alBiV0"
      },
      "source": [
        "# scaling our features\n",
        "from sklearn.preprocessing import StandardScaler\n",
        "sc_X = StandardScaler() \n",
        "X_train = sc_X.fit_transform(X_train)\n",
        "X_test = sc_X.transform(X_test)"
      ],
      "execution_count": null,
      "outputs": []
    },
    {
      "cell_type": "markdown",
      "metadata": {
        "id": "hxoyP6JvBiV3"
      },
      "source": [
        "For purposes of simplicity, we will work with the following regressors:\n",
        "* Decision Tree Regressor\n",
        "* Random Forest Regressor"
      ]
    },
    {
      "cell_type": "markdown",
      "metadata": {
        "id": "es4RooNMBiV4"
      },
      "source": [
        "## 4.1 Normal Modeling"
      ]
    },
    {
      "cell_type": "code",
      "metadata": {
        "id": "9oqDHFgQBiV4",
        "colab": {
          "base_uri": "https://localhost:8080/"
        },
        "outputId": "1a025ce7-f487-4089-beb9-2e93ef48619f"
      },
      "source": [
        "# loading our regressors\n",
        "from sklearn.tree import DecisionTreeClassifier \n",
        "from sklearn.ensemble import RandomForestRegressor\n",
        "\n",
        "# instantiating our regressors\n",
        "decision_classifier = DecisionTreeClassifier(random_state=42)\n",
        "regr = RandomForestRegressor(max_depth=2, random_state=0)\n",
        "\n",
        "# fitting to our training data\n",
        "decision_classifier.fit(X_train, y_train)\n",
        "regr.fit(X_train, y_train)\n",
        "\n",
        "# making predictions\n",
        "decision_y_prediction = decision_classifier.predict(X_test)\n",
        "regr_y_prediction = regr.predict(X_test)\n",
        "\n",
        "# # evaluating the RMSE and R2 scores\n",
        "from sklearn.metrics import mean_squared_error, r2_score\n",
        "mse = mean_squared_error(y_test, decision_y_prediction)\n",
        "mse = mean_squared_error(y_test, regr_y_prediction)\n",
        "R2_score = decision_classifier.score(X_train, y_train)\n",
        "R2_score = regr.score(X_train, y_train)\n",
        "print('DecisionTreeClassifier')\n",
        "print('MSE =', mse)\n",
        "print('RMSE =', mse ** 0.5)\n",
        "print('R2 Score =', R2_score)\n",
        "print('RandomForestRegressor')\n",
        "print('MSE =', mse)\n",
        "print('RMSE =', mse ** 0.5)\n",
        "print('R2 Score =', R2_score)"
      ],
      "execution_count": null,
      "outputs": [
        {
          "output_type": "stream",
          "name": "stdout",
          "text": [
            "DecisionTreeClassifier\n",
            "MSE = 2525.0625\n",
            "RMSE = 50.25\n",
            "R2 Score = 0.7232000000000001\n",
            "RandomForestRegressor\n",
            "MSE = 2525.0625\n",
            "RMSE = 50.25\n",
            "R2 Score = 0.7232000000000001\n"
          ]
        }
      ]
    },
    {
      "cell_type": "code",
      "metadata": {
        "id": "ePws3a5SBiV8",
        "colab": {
          "base_uri": "https://localhost:8080/"
        },
        "outputId": "2b07dd76-fcc0-4496-a513-4a55cfc916e1"
      },
      "source": [
        "# 10% of target variable's mean\n",
        "y.mean() * 10/100"
      ],
      "execution_count": null,
      "outputs": [
        {
          "output_type": "execute_result",
          "data": {
            "text/plain": [
              "9.466666666666667"
            ]
          },
          "metadata": {},
          "execution_count": 33
        }
      ]
    },
    {
      "cell_type": "markdown",
      "metadata": {
        "id": "dvgQU_reBiV_"
      },
      "source": [
        "Record your observations."
      ]
    },
    {
      "cell_type": "markdown",
      "metadata": {
        "id": "Vk7x7utuBiV_"
      },
      "source": [
        "## 4.2 Modeling with Grid Search"
      ]
    },
    {
      "cell_type": "code",
      "metadata": {
        "id": "QPm9K21BBiWA",
        "colab": {
          "base_uri": "https://localhost:8080/",
          "height": 380
        },
        "outputId": "71363002-3d14-40de-dac8-dd3fcb829bbf"
      },
      "source": [
        "# setting our grid parameters\n",
        "grid_param = {\n",
        "    'max_depth': [2, 3, 4, 10, 15],\n",
        "    'min_samples_leaf': [10, 20, 30, 40, 50]\n",
        "}\n",
        "\n",
        "# setting up the Grid Search with our regressors with cv = 5 and n_jobs = -1\n",
        "from sklearn.model_selection import GridSearchCV\n",
        "gd_sr_cl = GridSearchCV(estimator = decision_classifier,\n",
        "                     param_grid = grid_param,\n",
        "                     scoring = 'accuracy',\n",
        "                     cv = 5,\n",
        "                     n_jobs =-1)\n",
        "\n",
        "# fitting to training data\n",
        "gd_sr_cl.fit(X_train, y_train)\n",
        "\n",
        "# getting the best parameters\n",
        "best_parameters = gd_sr_cl.best_params_\n",
        "print(best_parameters)"
      ],
      "execution_count": null,
      "outputs": [
        {
          "output_type": "error",
          "ename": "ValueError",
          "evalue": "ignored",
          "traceback": [
            "\u001b[0;31m---------------------------------------------------------------------------\u001b[0m",
            "\u001b[0;31mValueError\u001b[0m                                Traceback (most recent call last)",
            "\u001b[0;32m<ipython-input-34-750dd752231c>\u001b[0m in \u001b[0;36m<module>\u001b[0;34m()\u001b[0m\n\u001b[1;32m     14\u001b[0m \u001b[0;34m\u001b[0m\u001b[0m\n\u001b[1;32m     15\u001b[0m \u001b[0;31m# fitting to training data\u001b[0m\u001b[0;34m\u001b[0m\u001b[0;34m\u001b[0m\u001b[0;34m\u001b[0m\u001b[0m\n\u001b[0;32m---> 16\u001b[0;31m \u001b[0mgd_sr_cl\u001b[0m\u001b[0;34m.\u001b[0m\u001b[0mfit\u001b[0m\u001b[0;34m(\u001b[0m\u001b[0mX_train\u001b[0m\u001b[0;34m,\u001b[0m \u001b[0my_train\u001b[0m\u001b[0;34m)\u001b[0m\u001b[0;34m\u001b[0m\u001b[0;34m\u001b[0m\u001b[0m\n\u001b[0m\u001b[1;32m     17\u001b[0m \u001b[0;34m\u001b[0m\u001b[0m\n\u001b[1;32m     18\u001b[0m \u001b[0;31m# getting the best parameters\u001b[0m\u001b[0;34m\u001b[0m\u001b[0;34m\u001b[0m\u001b[0;34m\u001b[0m\u001b[0m\n",
            "\u001b[0;32m/usr/local/lib/python3.7/dist-packages/sklearn/model_selection/_search.py\u001b[0m in \u001b[0;36mfit\u001b[0;34m(self, X, y, groups, **fit_params)\u001b[0m\n\u001b[1;32m    889\u001b[0m                 \u001b[0;32mreturn\u001b[0m \u001b[0mresults\u001b[0m\u001b[0;34m\u001b[0m\u001b[0;34m\u001b[0m\u001b[0m\n\u001b[1;32m    890\u001b[0m \u001b[0;34m\u001b[0m\u001b[0m\n\u001b[0;32m--> 891\u001b[0;31m             \u001b[0mself\u001b[0m\u001b[0;34m.\u001b[0m\u001b[0m_run_search\u001b[0m\u001b[0;34m(\u001b[0m\u001b[0mevaluate_candidates\u001b[0m\u001b[0;34m)\u001b[0m\u001b[0;34m\u001b[0m\u001b[0;34m\u001b[0m\u001b[0m\n\u001b[0m\u001b[1;32m    892\u001b[0m \u001b[0;34m\u001b[0m\u001b[0m\n\u001b[1;32m    893\u001b[0m             \u001b[0;31m# multimetric is determined here because in the case of a callable\u001b[0m\u001b[0;34m\u001b[0m\u001b[0;34m\u001b[0m\u001b[0;34m\u001b[0m\u001b[0m\n",
            "\u001b[0;32m/usr/local/lib/python3.7/dist-packages/sklearn/model_selection/_search.py\u001b[0m in \u001b[0;36m_run_search\u001b[0;34m(self, evaluate_candidates)\u001b[0m\n\u001b[1;32m   1390\u001b[0m     \u001b[0;32mdef\u001b[0m \u001b[0m_run_search\u001b[0m\u001b[0;34m(\u001b[0m\u001b[0mself\u001b[0m\u001b[0;34m,\u001b[0m \u001b[0mevaluate_candidates\u001b[0m\u001b[0;34m)\u001b[0m\u001b[0;34m:\u001b[0m\u001b[0;34m\u001b[0m\u001b[0;34m\u001b[0m\u001b[0m\n\u001b[1;32m   1391\u001b[0m         \u001b[0;34m\"\"\"Search all candidates in param_grid\"\"\"\u001b[0m\u001b[0;34m\u001b[0m\u001b[0;34m\u001b[0m\u001b[0m\n\u001b[0;32m-> 1392\u001b[0;31m         \u001b[0mevaluate_candidates\u001b[0m\u001b[0;34m(\u001b[0m\u001b[0mParameterGrid\u001b[0m\u001b[0;34m(\u001b[0m\u001b[0mself\u001b[0m\u001b[0;34m.\u001b[0m\u001b[0mparam_grid\u001b[0m\u001b[0;34m)\u001b[0m\u001b[0;34m)\u001b[0m\u001b[0;34m\u001b[0m\u001b[0;34m\u001b[0m\u001b[0m\n\u001b[0m\u001b[1;32m   1393\u001b[0m \u001b[0;34m\u001b[0m\u001b[0m\n\u001b[1;32m   1394\u001b[0m \u001b[0;34m\u001b[0m\u001b[0m\n",
            "\u001b[0;32m/usr/local/lib/python3.7/dist-packages/sklearn/model_selection/_search.py\u001b[0m in \u001b[0;36mevaluate_candidates\u001b[0;34m(candidate_params, cv, more_results)\u001b[0m\n\u001b[1;32m    849\u001b[0m                     )\n\u001b[1;32m    850\u001b[0m                     for (cand_idx, parameters), (split_idx, (train, test)) in product(\n\u001b[0;32m--> 851\u001b[0;31m                         \u001b[0menumerate\u001b[0m\u001b[0;34m(\u001b[0m\u001b[0mcandidate_params\u001b[0m\u001b[0;34m)\u001b[0m\u001b[0;34m,\u001b[0m \u001b[0menumerate\u001b[0m\u001b[0;34m(\u001b[0m\u001b[0mcv\u001b[0m\u001b[0;34m.\u001b[0m\u001b[0msplit\u001b[0m\u001b[0;34m(\u001b[0m\u001b[0mX\u001b[0m\u001b[0;34m,\u001b[0m \u001b[0my\u001b[0m\u001b[0;34m,\u001b[0m \u001b[0mgroups\u001b[0m\u001b[0;34m)\u001b[0m\u001b[0;34m)\u001b[0m\u001b[0;34m\u001b[0m\u001b[0;34m\u001b[0m\u001b[0m\n\u001b[0m\u001b[1;32m    852\u001b[0m                     )\n\u001b[1;32m    853\u001b[0m                 )\n",
            "\u001b[0;32m/usr/local/lib/python3.7/dist-packages/sklearn/model_selection/_split.py\u001b[0m in \u001b[0;36msplit\u001b[0;34m(self, X, y, groups)\u001b[0m\n\u001b[1;32m    335\u001b[0m                     \u001b[0;34m\"Cannot have number of splits n_splits={0} greater\"\u001b[0m\u001b[0;34m\u001b[0m\u001b[0;34m\u001b[0m\u001b[0m\n\u001b[1;32m    336\u001b[0m                     \u001b[0;34m\" than the number of samples: n_samples={1}.\"\u001b[0m\u001b[0;34m\u001b[0m\u001b[0;34m\u001b[0m\u001b[0m\n\u001b[0;32m--> 337\u001b[0;31m                 ).format(self.n_splits, n_samples)\n\u001b[0m\u001b[1;32m    338\u001b[0m             )\n\u001b[1;32m    339\u001b[0m \u001b[0;34m\u001b[0m\u001b[0m\n",
            "\u001b[0;31mValueError\u001b[0m: Cannot have number of splits n_splits=5 greater than the number of samples: n_samples=2."
          ]
        }
      ]
    },
    {
      "cell_type": "code",
      "source": [
        "# setting our grid parameters - Decison Tree Regressor\n",
        "#start by importing required libraries\n",
        "from sklearn.model_selection import GridSearchCV\n",
        "from sklearn.tree import DecisionTreeRegressor\n",
        "\n",
        "#Defining a dictionary for the grid which we will be an input for GridSeachCv - for the Decison Tree Regressor\n",
        "\n",
        "parameters={\"splitter\":[\"best\",\"random\"],\"max_depth\" : [1,3,5,7,9,11,12],\"min_samples_leaf\":[1,2,3,4,5,6,7,8,9,10],\"min_weight_fraction_leaf\":[0.1,0.2,0.3,0.4,0.5,0.6,0.7,0.8,0.9],\n",
        "           \"max_features\":[\"auto\",\"log2\",\"sqrt\",None],\"max_leaf_nodes\":[None,10,20,30,40,50,60,70,80,90] }\n",
        "\n",
        "dtr_regressor = DecisionTreeRegressor(random_state = 0)\n",
        "\n",
        "# # Instantiate DecisionTreeRegressor GridSearchCV with cv = 5 and n_jobs = -1\n",
        "dtr_g_search=GridSearchCV(dtr_regressor,param_grid=parameters,scoring='neg_mean_squared_error',cv=5,n_jobs =-1)\n",
        "\n",
        "\n",
        "# fitting to training data\n",
        "dtr_g_search.fit(X_train, y_train);\n",
        "\n",
        "# getting the best parameters\n",
        "print(dtr_g_search.best_params_)\n",
        "\n",
        "\n",
        "print(dtr_g_search.best_estimator_)"
      ],
      "metadata": {
        "id": "o3WQ4y1-0Y3P"
      },
      "execution_count": null,
      "outputs": []
    },
    {
      "cell_type": "code",
      "metadata": {
        "id": "khsTTDq0BiWD"
      },
      "source": [
        "# implementing this recommendation\n",
        "\n",
        "# instantiating our regressors with the recommended parameters\n",
        "decision_classifier = DecisionTreeClassifier(random_state=42)\n",
        "regr = RandomForestRegressor(max_depth=2, random_state=0)\n",
        "\n",
        "# fitting to our training data\n",
        "decision_classifier.fit(X_train, y_train)\n",
        "regr.fit(X_train, y_train)\n",
        "# making predictions\n",
        "decision_y_prediction = decision_classifier.predict(X_test)\n",
        "regr_y_prediction = regr.predict(X_test)\n",
        "\n",
        "# evaluating the RMSE and R2 scores\n",
        "mse = mean_squared_error(y_test, decision_y_prediction)\n",
        "mse = mean_squared_error(y_test, regr_y_prediction)\n",
        "R2_score = decision_classifier.score(X_train, y_train)\n",
        "R2_score = regr.score(X_train, y_train)\n",
        "print('DecisionTreeClassifier')\n",
        "print('MSE =', mse)\n",
        "print('RMSE =', mse ** 0.5)\n",
        "print('R2 Score =', R2_score)\n",
        "print('RandomForestRegressor')\n",
        "print('MSE =', mse)\n",
        "print('RMSE =', mse ** 0.5)\n",
        "print('R2 Score =', R2_score)"
      ],
      "execution_count": null,
      "outputs": []
    },
    {
      "cell_type": "markdown",
      "metadata": {
        "id": "YuFQMJceBiWF"
      },
      "source": [
        "## 4.3 Modeling with Random Search"
      ]
    },
    {
      "cell_type": "code",
      "metadata": {
        "id": "Tht4XME9BiWF"
      },
      "source": [
        "# setting up our parameters and the respective distributions to sample from\n",
        "from scipy.stats import randint as sp_randint\n",
        "param_dist = {\"max_depth\": [3, None], \n",
        "              \"min_samples_leaf\": sp_randint(1, 50)}\n",
        "\n",
        "# setting up Randomized Search for each regressor with cv = 5\n",
        "from sklearn.model_selection import RandomizedSearchCV \n",
        "random_sr = RandomizedSearchCV(decision_classifier, param_dist, cv = 5) \n",
        "\n",
        "# fitting to training data\n",
        "random_sr.fit(X_train, y_train)\n",
        "\n",
        "# getting the best parameters\n",
        "best_parameters = random_sr.best_params_\n",
        "print(best_parameters)"
      ],
      "execution_count": null,
      "outputs": []
    },
    {
      "cell_type": "code",
      "metadata": {
        "id": "oc55zVBiBiWI"
      },
      "source": [
        "# implementing this recommendation\n",
        "\n",
        "# instantiating our regressors using the recommended parameters\n",
        "decision_classifier = DecisionTreeClassifier(random_state=42)\n",
        "regr = RandomForestRegressor(max_depth=2, random_state=0)\n",
        "\n",
        "# fitting to our training data\n",
        "decision_classifier.fit(X_train, y_train)\n",
        "regr.fit(X_train, y_train)\n",
        "\n",
        "# making predictions\n",
        "decision_y_prediction = decision_classifier.predict(X_test)\n",
        "regr_y_prediction = regr.predict(X_test)\n",
        "\n",
        "# evaluating the RMSE and R2 scores\n",
        "mse = mean_squared_error(y_test, decision_y_prediction)\n",
        "mse = mean_squared_error(y_test, regr_y_prediction)\n",
        "R2_score = decision_classifier.score(X_train, y_train)\n",
        "R2_score = regr.score(X_train, y_train)\n",
        "print('DecisionTreeClassifier')\n",
        "print('MSE =', mse)\n",
        "print('RMSE =', mse ** 0.5)\n",
        "print('R2 Score =', R2_score)\n",
        "print('RandomForestRegressor')\n",
        "print('MSE =', mse)\n",
        "print('RMSE =', mse ** 0.5)\n",
        "print('R2 Score =', R2_score)"
      ],
      "execution_count": null,
      "outputs": []
    },
    {
      "cell_type": "markdown",
      "metadata": {
        "id": "H4FCkA4HBiWN"
      },
      "source": [
        "## 4.4 Modeling with Bayesian Optimization"
      ]
    },
    {
      "cell_type": "code",
      "metadata": {
        "id": "17VcumC_BiWO"
      },
      "source": [
        "# importing the hyperopt library and cross_val_score\n",
        "from hyperopt import hp, fmin, tpe, STATUS_OK\n",
        "from sklearn.model_selection import cross_val_score\n",
        "\n",
        "# setting up a space dictionary\n",
        "space = {'max_depth': hp.quniform('max_depth', 10, 1200, 10), \n",
        "        'min_samples_leaf': hp.uniform ('min_samples_leaf', 0, 0.5)}\n",
        "\n",
        "# setting up our objective functions\n",
        "def objective(space): \n",
        "    classifier = DecisionTreeClassifier(max_depth = space['max_depth'],\n",
        "                                 min_samples_leaf = space['min_samples_leaf'])\n",
        "    \n",
        "    accuracy = cross_val_score(classifier, X_train, y_train, cv = 4).mean()\n",
        "    return {'loss': -accuracy, 'status': STATUS_OK }\n",
        "# running our optimizers and setting max_evals to 100\n",
        "best = fmin(fn= objective,                       # the objective function to miminize / the loss function to minimize\n",
        "            space = space,                        # the range of input values to test during optimisation\n",
        "            algo= tpe.suggest,                    # the search algorithm to use\n",
        "            max_evals = 100,                      # the no. of iteration to perform\n",
        "            rstate=np.random.RandomState(42))     # the randomstate for reproducability / to get the same result when we run the code\n",
        "\n",
        "#printing our outcomes\n",
        "best"
      ],
      "execution_count": null,
      "outputs": []
    },
    {
      "cell_type": "code",
      "metadata": {
        "id": "PMtZPGJLBiWU"
      },
      "source": [
        "# We can access values of the above paramemters by\n",
        "# ---\n",
        "#\n",
        "print(\"Max Depth:\", best['max_depth'])\n",
        "print(\"Min Samples Leaf:\", best['min_samples_leaf'])\n",
        "# instantiating our regressors using the recommended parameters\n",
        "decision_classifier = DecisionTreeClassifier(max_depth = best['max_depth'], \n",
        "                                             min_samples_leaf = best['min_samples_leaf'], random_state=42)\n",
        "regr = RandomForestRegressor(max_depth = best['max_depth'], \n",
        "                                             min_samples_leaf = best['min_samples_leaf'], random_state=42)\n",
        "\n",
        "# fitting to our training data\n",
        "decision_classifier.fit(X_train, y_train)\n",
        "regr.fit(X_train, y_train)\n",
        "\n",
        "# making predictions\n",
        "decision_y_prediction = decision_classifier.predict(X_test)\n",
        "regr_y_prediction = regr.predict(X_test)\n",
        "\n",
        "# evaluating the RMSE and R2 scores\n",
        "mse = mean_squared_error(y_test, decision_y_prediction)\n",
        "mse = mean_squared_error(y_test, regr_y_prediction)\n",
        "R2_score = decision_classifier.score(X_train, y_train)\n",
        "R2_score = regr.score(X_train, y_train)\n",
        "print('DecisionTreeClassifier')\n",
        "print('MSE =', mse)\n",
        "print('RMSE =', mse ** 0.5)\n",
        "print('R2 Score =', R2_score)\n",
        "print('RandomForestRegressor')\n",
        "print('MSE =', mse)\n",
        "print('RMSE =', mse ** 0.5)\n",
        "print('R2 Score =', R2_score)"
      ],
      "execution_count": null,
      "outputs": []
    },
    {
      "cell_type": "markdown",
      "metadata": {
        "id": "YFoZdpZaBiWX"
      },
      "source": [
        "# <font color='#2F4F4F'>5. Summary of Findings</font>\n",
        "\n",
        "Summarize your findings."
      ]
    },
    {
      "cell_type": "markdown",
      "metadata": {
        "id": "8l8X81g0BiWY"
      },
      "source": [
        "# <font color='#2F4F4F'>6. Recommendations</font>\n",
        "\n",
        "Provide your recommendations."
      ]
    },
    {
      "cell_type": "markdown",
      "metadata": {
        "id": "YQD7_7o8BiWZ"
      },
      "source": [
        "# <font color='#2F4F4F'>7. Challenging your Solution</font>\n",
        "\n",
        "### a) Did we have the right question?\n",
        "\n",
        "Yes\n",
        "\n",
        "### b) Did we have the right data?\n",
        "\n",
        "Yes\n",
        "\n",
        "### c) What can be done to improve the solution?\n",
        "\n",
        "Add more data\n"
      ]
    }
  ]
}